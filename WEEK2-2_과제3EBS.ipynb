{
  "nbformat": 4,
  "nbformat_minor": 0,
  "metadata": {
    "colab": {
      "name": "Untitled0.ipynb",
      "provenance": [],
      "toc_visible": true,
      "authorship_tag": "ABX9TyMb0N815xWbnUurjF65jqjK",
      "include_colab_link": true
    },
    "kernelspec": {
      "name": "python3",
      "display_name": "Python 3"
    }
  },
  "cells": [
    {
      "cell_type": "markdown",
      "metadata": {
        "id": "view-in-github",
        "colab_type": "text"
      },
      "source": [
        "<a href=\"https://colab.research.google.com/github/SWeat-python-weekend-study/jisun_So/blob/main/WEEK2-2_%EA%B3%BC%EC%A0%9C3EBS.ipynb\" target=\"_parent\"><img src=\"https://colab.research.google.com/assets/colab-badge.svg\" alt=\"Open In Colab\"/></a>"
      ]
    },
    {
      "cell_type": "code",
      "metadata": {
        "id": "3EMFrqIOUM67"
      },
      "source": [
        "import pandas as pd"
      ],
      "execution_count": 1,
      "outputs": []
    },
    {
      "cell_type": "code",
      "metadata": {
        "colab": {
          "base_uri": "https://localhost:8080/"
        },
        "id": "24tQKZfAc_W5",
        "outputId": "4f2bf8fa-ed4b-4ed2-f301-cf8903676260"
      },
      "source": [
        "fifa2019 = pd.read_csv('data.csv')       \r\n",
        "print(fifa2019.shape)                        "
      ],
      "execution_count": 3,
      "outputs": [
        {
          "output_type": "stream",
          "text": [
            "(18207, 89)\n"
          ],
          "name": "stdout"
        }
      ]
    },
    {
      "cell_type": "code",
      "metadata": {
        "colab": {
          "base_uri": "https://localhost:8080/"
        },
        "id": "69aXh8qZdLbs",
        "outputId": "9c257015-cc15-481b-aebe-21edeee15d49"
      },
      "source": [
        "print(fifa2019.info())"
      ],
      "execution_count": 6,
      "outputs": [
        {
          "output_type": "stream",
          "text": [
            "<class 'pandas.core.frame.DataFrame'>\n",
            "RangeIndex: 18207 entries, 0 to 18206\n",
            "Data columns (total 89 columns):\n",
            " #   Column                    Non-Null Count  Dtype  \n",
            "---  ------                    --------------  -----  \n",
            " 0   Unnamed: 0                18207 non-null  int64  \n",
            " 1   ID                        18207 non-null  int64  \n",
            " 2   Name                      18207 non-null  object \n",
            " 3   Age                       18207 non-null  int64  \n",
            " 4   Photo                     18207 non-null  object \n",
            " 5   Nationality               18207 non-null  object \n",
            " 6   Flag                      18207 non-null  object \n",
            " 7   Overall                   18207 non-null  int64  \n",
            " 8   Potential                 18207 non-null  int64  \n",
            " 9   Club                      17966 non-null  object \n",
            " 10  Club Logo                 18207 non-null  object \n",
            " 11  Value                     18207 non-null  object \n",
            " 12  Wage                      18207 non-null  object \n",
            " 13  Special                   18207 non-null  int64  \n",
            " 14  Preferred Foot            18159 non-null  object \n",
            " 15  International Reputation  18159 non-null  float64\n",
            " 16  Weak Foot                 18159 non-null  float64\n",
            " 17  Skill Moves               18159 non-null  float64\n",
            " 18  Work Rate                 18159 non-null  object \n",
            " 19  Body Type                 18159 non-null  object \n",
            " 20  Real Face                 18159 non-null  object \n",
            " 21  Position                  18147 non-null  object \n",
            " 22  Jersey Number             18147 non-null  float64\n",
            " 23  Joined                    16654 non-null  object \n",
            " 24  Loaned From               1264 non-null   object \n",
            " 25  Contract Valid Until      17918 non-null  object \n",
            " 26  Height                    18159 non-null  object \n",
            " 27  Weight                    18159 non-null  object \n",
            " 28  LS                        16122 non-null  object \n",
            " 29  ST                        16122 non-null  object \n",
            " 30  RS                        16122 non-null  object \n",
            " 31  LW                        16122 non-null  object \n",
            " 32  LF                        16122 non-null  object \n",
            " 33  CF                        16122 non-null  object \n",
            " 34  RF                        16122 non-null  object \n",
            " 35  RW                        16122 non-null  object \n",
            " 36  LAM                       16122 non-null  object \n",
            " 37  CAM                       16122 non-null  object \n",
            " 38  RAM                       16122 non-null  object \n",
            " 39  LM                        16122 non-null  object \n",
            " 40  LCM                       16122 non-null  object \n",
            " 41  CM                        16122 non-null  object \n",
            " 42  RCM                       16122 non-null  object \n",
            " 43  RM                        16122 non-null  object \n",
            " 44  LWB                       16122 non-null  object \n",
            " 45  LDM                       16122 non-null  object \n",
            " 46  CDM                       16122 non-null  object \n",
            " 47  RDM                       16122 non-null  object \n",
            " 48  RWB                       16122 non-null  object \n",
            " 49  LB                        16122 non-null  object \n",
            " 50  LCB                       16122 non-null  object \n",
            " 51  CB                        16122 non-null  object \n",
            " 52  RCB                       16122 non-null  object \n",
            " 53  RB                        16122 non-null  object \n",
            " 54  Crossing                  18159 non-null  float64\n",
            " 55  Finishing                 18159 non-null  float64\n",
            " 56  HeadingAccuracy           18159 non-null  float64\n",
            " 57  ShortPassing              18159 non-null  float64\n",
            " 58  Volleys                   18159 non-null  float64\n",
            " 59  Dribbling                 18159 non-null  float64\n",
            " 60  Curve                     18159 non-null  float64\n",
            " 61  FKAccuracy                18159 non-null  float64\n",
            " 62  LongPassing               18159 non-null  float64\n",
            " 63  BallControl               18159 non-null  float64\n",
            " 64  Acceleration              18159 non-null  float64\n",
            " 65  SprintSpeed               18159 non-null  float64\n",
            " 66  Agility                   18159 non-null  float64\n",
            " 67  Reactions                 18159 non-null  float64\n",
            " 68  Balance                   18159 non-null  float64\n",
            " 69  ShotPower                 18159 non-null  float64\n",
            " 70  Jumping                   18159 non-null  float64\n",
            " 71  Stamina                   18159 non-null  float64\n",
            " 72  Strength                  18159 non-null  float64\n",
            " 73  LongShots                 18159 non-null  float64\n",
            " 74  Aggression                18159 non-null  float64\n",
            " 75  Interceptions             18159 non-null  float64\n",
            " 76  Positioning               18159 non-null  float64\n",
            " 77  Vision                    18159 non-null  float64\n",
            " 78  Penalties                 18159 non-null  float64\n",
            " 79  Composure                 18159 non-null  float64\n",
            " 80  Marking                   18159 non-null  float64\n",
            " 81  StandingTackle            18159 non-null  float64\n",
            " 82  SlidingTackle             18159 non-null  float64\n",
            " 83  GKDiving                  18159 non-null  float64\n",
            " 84  GKHandling                18159 non-null  float64\n",
            " 85  GKKicking                 18159 non-null  float64\n",
            " 86  GKPositioning             18159 non-null  float64\n",
            " 87  GKReflexes                18159 non-null  float64\n",
            " 88  Release Clause            16643 non-null  object \n",
            "dtypes: float64(38), int64(6), object(45)\n",
            "memory usage: 12.4+ MB\n",
            "None\n"
          ],
          "name": "stdout"
        }
      ]
    },
    {
      "cell_type": "code",
      "metadata": {
        "colab": {
          "base_uri": "https://localhost:8080/"
        },
        "id": "x39730PPdWQ6",
        "outputId": "7c9f2207-2764-4ba9-e292-fc4e8ad8de2d"
      },
      "source": [
        "sub1 = fifa2019.loc[14]\r\n",
        "print(sub1)"
      ],
      "execution_count": 7,
      "outputs": [
        {
          "output_type": "stream",
          "text": [
            "Unnamed: 0                                                    14\n",
            "ID                                                        215914\n",
            "Name                                                    N. Kanté\n",
            "Age                                                           27\n",
            "Photo             https://cdn.sofifa.org/players/4/19/215914.png\n",
            "                                       ...                      \n",
            "GKHandling                                                    12\n",
            "GKKicking                                                     10\n",
            "GKPositioning                                                  7\n",
            "GKReflexes                                                    10\n",
            "Release Clause                                           €121.3M\n",
            "Name: 14, Length: 89, dtype: object\n"
          ],
          "name": "stdout"
        }
      ]
    },
    {
      "cell_type": "code",
      "metadata": {
        "colab": {
          "base_uri": "https://localhost:8080/"
        },
        "id": "ZBQqVH-wdd7v",
        "outputId": "8fb65269-3553-44e0-feaa-f61be01601b7"
      },
      "source": [
        "sub2 = fifa2019.loc[2:16]\r\n",
        "print(sub2)"
      ],
      "execution_count": 8,
      "outputs": [
        {
          "output_type": "stream",
          "text": [
            "    Unnamed: 0      ID  ... GKReflexes  Release Clause\n",
            "2            2  190871  ...       11.0         €228.1M\n",
            "3            3  193080  ...       94.0         €138.6M\n",
            "4            4  192985  ...       13.0         €196.4M\n",
            "5            5  183277  ...        8.0         €172.1M\n",
            "6            6  177003  ...        9.0         €137.4M\n",
            "7            7  176580  ...       37.0           €164M\n",
            "8            8  155862  ...       11.0         €104.6M\n",
            "9            9  200389  ...       89.0         €144.5M\n",
            "10          10  188545  ...       10.0         €127.1M\n",
            "11          11  182521  ...       10.0         €156.8M\n",
            "12          12  182493  ...       15.0          €90.2M\n",
            "13          13  168542  ...       12.0           €111M\n",
            "14          14  215914  ...       10.0         €121.3M\n",
            "15          15  211110  ...        8.0         €153.5M\n",
            "16          16  202126  ...       11.0         €160.7M\n",
            "\n",
            "[15 rows x 89 columns]\n"
          ],
          "name": "stdout"
        }
      ]
    },
    {
      "cell_type": "code",
      "metadata": {
        "colab": {
          "base_uri": "https://localhost:8080/"
        },
        "id": "lbxsRMB6dmhw",
        "outputId": "21dfa9d5-1ddc-4682-8145-b8b9dddae5aa"
      },
      "source": [
        "sub3 = fifa2019.loc[:,['Name', 'Preferred Foot']]\r\n",
        "print(sub3)"
      ],
      "execution_count": 9,
      "outputs": [
        {
          "output_type": "stream",
          "text": [
            "                     Name Preferred Foot\n",
            "0                L. Messi           Left\n",
            "1       Cristiano Ronaldo          Right\n",
            "2               Neymar Jr          Right\n",
            "3                  De Gea          Right\n",
            "4            K. De Bruyne          Right\n",
            "...                   ...            ...\n",
            "18202        J. Lundstram          Right\n",
            "18203  N. Christoffersson          Right\n",
            "18204           B. Worman          Right\n",
            "18205      D. Walker-Rice          Right\n",
            "18206           G. Nugent          Right\n",
            "\n",
            "[18207 rows x 2 columns]\n"
          ],
          "name": "stdout"
        }
      ]
    },
    {
      "cell_type": "code",
      "metadata": {
        "colab": {
          "base_uri": "https://localhost:8080/"
        },
        "id": "g2nmGO6rduCq",
        "outputId": "597b7f5c-5e28-427a-a366-3d7f1195430a"
      },
      "source": [
        "sub4 = fifa2019.iloc[0:10,1:3]\r\n",
        "print(sub4)\r\n"
      ],
      "execution_count": 10,
      "outputs": [
        {
          "output_type": "stream",
          "text": [
            "       ID               Name\n",
            "0  158023           L. Messi\n",
            "1   20801  Cristiano Ronaldo\n",
            "2  190871          Neymar Jr\n",
            "3  193080             De Gea\n",
            "4  192985       K. De Bruyne\n",
            "5  183277          E. Hazard\n",
            "6  177003          L. Modrić\n",
            "7  176580          L. Suárez\n",
            "8  155862       Sergio Ramos\n",
            "9  200389           J. Oblak\n"
          ],
          "name": "stdout"
        }
      ]
    },
    {
      "cell_type": "code",
      "metadata": {
        "colab": {
          "base_uri": "https://localhost:8080/"
        },
        "id": "K09AB4lHdysP",
        "outputId": "3862da8a-17d1-4123-9ee0-a96fb7308625"
      },
      "source": [
        "korea_player=fifa2019['Nationality']=='Korea Republic'\r\n",
        "sub5 = fifa2019.loc[korea_player]\r\n",
        "print(korea_player)\r\n",
        "\r\n"
      ],
      "execution_count": 11,
      "outputs": [
        {
          "output_type": "stream",
          "text": [
            "0        False\n",
            "1        False\n",
            "2        False\n",
            "3        False\n",
            "4        False\n",
            "         ...  \n",
            "18202    False\n",
            "18203    False\n",
            "18204    False\n",
            "18205    False\n",
            "18206    False\n",
            "Name: Nationality, Length: 18207, dtype: bool\n"
          ],
          "name": "stdout"
        }
      ]
    },
    {
      "cell_type": "code",
      "metadata": {
        "colab": {
          "base_uri": "https://localhost:8080/"
        },
        "id": "BHxcxx1wd6Nv",
        "outputId": "c1bffa09-c6cf-42e0-aff7-0352aa719254"
      },
      "source": [
        "print(sub5)"
      ],
      "execution_count": 12,
      "outputs": [
        {
          "output_type": "stream",
          "text": [
            "       Unnamed: 0      ID  ... GKReflexes  Release Clause\n",
            "125           125  200104  ...       10.0          €71.2M\n",
            "1295         1295  180283  ...       10.0          €14.3M\n",
            "1407         1407  182152  ...        9.0          €12.8M\n",
            "2002         2002  211927  ...        8.0          €17.6M\n",
            "2021         2021  221671  ...        8.0          €13.8M\n",
            "...           ...     ...  ...        ...             ...\n",
            "17955       17955  240272  ...       12.0            €73K\n",
            "17959       17959  245401  ...       12.0            €73K\n",
            "17965       17965  243359  ...       11.0           €131K\n",
            "18058       18058  244108  ...       10.0           €104K\n",
            "18084       18084  244411  ...        5.0            €73K\n",
            "\n",
            "[335 rows x 89 columns]\n"
          ],
          "name": "stdout"
        }
      ]
    },
    {
      "cell_type": "code",
      "metadata": {
        "colab": {
          "base_uri": "https://localhost:8080/"
        },
        "id": "Cr6NoXFAeBNv",
        "outputId": "936ba648-839c-45d4-e348-0d252ed134f7"
      },
      "source": [
        "sub6 = sub5['Name']\r\n",
        "print(sub6)\r\n"
      ],
      "execution_count": 13,
      "outputs": [
        {
          "output_type": "stream",
          "text": [
            "125               H. Son\n",
            "1295       Ki Sung Yueng\n",
            "1407        Koo Ja Cheol\n",
            "2002     Kwon Chang Hoon\n",
            "2021        Lee Jae Sung\n",
            "              ...       \n",
            "17955     Min Gyeong Min\n",
            "17959       Lee Dong Hee\n",
            "17965       Kim Jong Jin\n",
            "18058    Hong Hyeon Seok\n",
            "18084        Kwon Ki Pyo\n",
            "Name: Name, Length: 335, dtype: object\n"
          ],
          "name": "stdout"
        }
      ]
    }
  ]
}