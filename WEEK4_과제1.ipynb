{
  "nbformat": 4,
  "nbformat_minor": 0,
  "metadata": {
    "colab": {
      "name": "Untitled1.ipynb",
      "provenance": [],
      "authorship_tag": "ABX9TyPqtpbP/G7v1P9ReEAeWhNn",
      "include_colab_link": true
    },
    "kernelspec": {
      "name": "python3",
      "display_name": "Python 3"
    }
  },
  "cells": [
    {
      "cell_type": "markdown",
      "metadata": {
        "id": "view-in-github",
        "colab_type": "text"
      },
      "source": [
        "<a href=\"https://colab.research.google.com/github/SWeat-python-weekend-study/jisun_So/blob/main/WEEK4_%EA%B3%BC%EC%A0%9C1.ipynb\" target=\"_parent\"><img src=\"https://colab.research.google.com/assets/colab-badge.svg\" alt=\"Open In Colab\"/></a>"
      ]
    },
    {
      "cell_type": "code",
      "metadata": {
        "id": "XX9sm9Hl2ogF"
      },
      "source": [
        "import pandas as pd\r\n",
        "import numpy as np\r\n",
        "\r\n"
      ],
      "execution_count": 6,
      "outputs": []
    },
    {
      "cell_type": "code",
      "metadata": {
        "colab": {
          "base_uri": "https://localhost:8080/",
          "height": 194
        },
        "id": "MGpIKfyM3bU7",
        "outputId": "2df2a75a-cd05-4b64-e6b8-8a26697bcf5d"
      },
      "source": [
        "df = pd.read_csv('trns_1day_series.csv')\r\n",
        "df.head()"
      ],
      "execution_count": 9,
      "outputs": [
        {
          "output_type": "execute_result",
          "data": {
            "text/html": [
              "<div>\n",
              "<style scoped>\n",
              "    .dataframe tbody tr th:only-of-type {\n",
              "        vertical-align: middle;\n",
              "    }\n",
              "\n",
              "    .dataframe tbody tr th {\n",
              "        vertical-align: top;\n",
              "    }\n",
              "\n",
              "    .dataframe thead th {\n",
              "        text-align: right;\n",
              "    }\n",
              "</style>\n",
              "<table border=\"1\" class=\"dataframe\">\n",
              "  <thead>\n",
              "    <tr style=\"text-align: right;\">\n",
              "      <th></th>\n",
              "      <th>SEND</th>\n",
              "      <th>RECV</th>\n",
              "      <th>APPROVAL</th>\n",
              "      <th>REJECT</th>\n",
              "    </tr>\n",
              "  </thead>\n",
              "  <tbody>\n",
              "    <tr>\n",
              "      <th>0</th>\n",
              "      <td>4779</td>\n",
              "      <td>5045</td>\n",
              "      <td>4024</td>\n",
              "      <td>755</td>\n",
              "    </tr>\n",
              "    <tr>\n",
              "      <th>1</th>\n",
              "      <td>5103</td>\n",
              "      <td>5055</td>\n",
              "      <td>4196</td>\n",
              "      <td>907</td>\n",
              "    </tr>\n",
              "    <tr>\n",
              "      <th>2</th>\n",
              "      <td>5035</td>\n",
              "      <td>5073</td>\n",
              "      <td>4653</td>\n",
              "      <td>382</td>\n",
              "    </tr>\n",
              "    <tr>\n",
              "      <th>3</th>\n",
              "      <td>4757</td>\n",
              "      <td>4762</td>\n",
              "      <td>4530</td>\n",
              "      <td>227</td>\n",
              "    </tr>\n",
              "    <tr>\n",
              "      <th>4</th>\n",
              "      <td>4639</td>\n",
              "      <td>4664</td>\n",
              "      <td>4425</td>\n",
              "      <td>214</td>\n",
              "    </tr>\n",
              "  </tbody>\n",
              "</table>\n",
              "</div>"
            ],
            "text/plain": [
              "   SEND  RECV  APPROVAL  REJECT\n",
              "0  4779  5045      4024     755\n",
              "1  5103  5055      4196     907\n",
              "2  5035  5073      4653     382\n",
              "3  4757  4762      4530     227\n",
              "4  4639  4664      4425     214"
            ]
          },
          "metadata": {
            "tags": []
          },
          "execution_count": 9
        }
      ]
    },
    {
      "cell_type": "code",
      "metadata": {
        "colab": {
          "base_uri": "https://localhost:8080/",
          "height": 282
        },
        "id": "LnctfVSD3fyU",
        "outputId": "13a92972-8299-4051-97e4-a63ff00b2c23"
      },
      "source": [
        "df.describe()"
      ],
      "execution_count": 12,
      "outputs": [
        {
          "output_type": "execute_result",
          "data": {
            "text/html": [
              "<div>\n",
              "<style scoped>\n",
              "    .dataframe tbody tr th:only-of-type {\n",
              "        vertical-align: middle;\n",
              "    }\n",
              "\n",
              "    .dataframe tbody tr th {\n",
              "        vertical-align: top;\n",
              "    }\n",
              "\n",
              "    .dataframe thead th {\n",
              "        text-align: right;\n",
              "    }\n",
              "</style>\n",
              "<table border=\"1\" class=\"dataframe\">\n",
              "  <thead>\n",
              "    <tr style=\"text-align: right;\">\n",
              "      <th></th>\n",
              "      <th>SEND</th>\n",
              "      <th>RECV</th>\n",
              "      <th>APPROVAL</th>\n",
              "      <th>REJECT</th>\n",
              "    </tr>\n",
              "  </thead>\n",
              "  <tbody>\n",
              "    <tr>\n",
              "      <th>count</th>\n",
              "      <td>1440.000000</td>\n",
              "      <td>1440.000000</td>\n",
              "      <td>1440.000000</td>\n",
              "      <td>1440.000000</td>\n",
              "    </tr>\n",
              "    <tr>\n",
              "      <th>mean</th>\n",
              "      <td>10274.082639</td>\n",
              "      <td>10274.831944</td>\n",
              "      <td>10062.034722</td>\n",
              "      <td>212.047917</td>\n",
              "    </tr>\n",
              "    <tr>\n",
              "      <th>std</th>\n",
              "      <td>6683.456958</td>\n",
              "      <td>6683.442065</td>\n",
              "      <td>6584.390468</td>\n",
              "      <td>135.078228</td>\n",
              "    </tr>\n",
              "    <tr>\n",
              "      <th>min</th>\n",
              "      <td>769.000000</td>\n",
              "      <td>769.000000</td>\n",
              "      <td>714.000000</td>\n",
              "      <td>16.000000</td>\n",
              "    </tr>\n",
              "    <tr>\n",
              "      <th>25%</th>\n",
              "      <td>3580.750000</td>\n",
              "      <td>3579.250000</td>\n",
              "      <td>3469.000000</td>\n",
              "      <td>84.000000</td>\n",
              "    </tr>\n",
              "    <tr>\n",
              "      <th>50%</th>\n",
              "      <td>11115.000000</td>\n",
              "      <td>11133.500000</td>\n",
              "      <td>10901.500000</td>\n",
              "      <td>210.500000</td>\n",
              "    </tr>\n",
              "    <tr>\n",
              "      <th>75%</th>\n",
              "      <td>15745.000000</td>\n",
              "      <td>15729.250000</td>\n",
              "      <td>15451.000000</td>\n",
              "      <td>305.000000</td>\n",
              "    </tr>\n",
              "    <tr>\n",
              "      <th>max</th>\n",
              "      <td>24859.000000</td>\n",
              "      <td>24911.000000</td>\n",
              "      <td>24565.000000</td>\n",
              "      <td>907.000000</td>\n",
              "    </tr>\n",
              "  </tbody>\n",
              "</table>\n",
              "</div>"
            ],
            "text/plain": [
              "               SEND          RECV      APPROVAL       REJECT\n",
              "count   1440.000000   1440.000000   1440.000000  1440.000000\n",
              "mean   10274.082639  10274.831944  10062.034722   212.047917\n",
              "std     6683.456958   6683.442065   6584.390468   135.078228\n",
              "min      769.000000    769.000000    714.000000    16.000000\n",
              "25%     3580.750000   3579.250000   3469.000000    84.000000\n",
              "50%    11115.000000  11133.500000  10901.500000   210.500000\n",
              "75%    15745.000000  15729.250000  15451.000000   305.000000\n",
              "max    24859.000000  24911.000000  24565.000000   907.000000"
            ]
          },
          "metadata": {
            "tags": []
          },
          "execution_count": 12
        }
      ]
    },
    {
      "cell_type": "code",
      "metadata": {
        "colab": {
          "base_uri": "https://localhost:8080/"
        },
        "id": "9wIV-B0M3r-u",
        "outputId": "18b727cb-519a-4820-85f4-64b1e552786a"
      },
      "source": [
        "len(df)\r\n",
        "\r\n"
      ],
      "execution_count": 15,
      "outputs": [
        {
          "output_type": "execute_result",
          "data": {
            "text/plain": [
              "1440"
            ]
          },
          "metadata": {
            "tags": []
          },
          "execution_count": 15
        }
      ]
    },
    {
      "cell_type": "code",
      "metadata": {
        "colab": {
          "base_uri": "https://localhost:8080/"
        },
        "id": "5SPNBOs033m5",
        "outputId": "1221e033-6c86-4e39-b554-c47bcf691b97"
      },
      "source": [
        "pd.date_range('00:00', '23:59', freq='1min')\r\n"
      ],
      "execution_count": 16,
      "outputs": [
        {
          "output_type": "execute_result",
          "data": {
            "text/plain": [
              "DatetimeIndex(['2021-03-08 00:00:00', '2021-03-08 00:01:00',\n",
              "               '2021-03-08 00:02:00', '2021-03-08 00:03:00',\n",
              "               '2021-03-08 00:04:00', '2021-03-08 00:05:00',\n",
              "               '2021-03-08 00:06:00', '2021-03-08 00:07:00',\n",
              "               '2021-03-08 00:08:00', '2021-03-08 00:09:00',\n",
              "               ...\n",
              "               '2021-03-08 23:50:00', '2021-03-08 23:51:00',\n",
              "               '2021-03-08 23:52:00', '2021-03-08 23:53:00',\n",
              "               '2021-03-08 23:54:00', '2021-03-08 23:55:00',\n",
              "               '2021-03-08 23:56:00', '2021-03-08 23:57:00',\n",
              "               '2021-03-08 23:58:00', '2021-03-08 23:59:00'],\n",
              "              dtype='datetime64[ns]', length=1440, freq='T')"
            ]
          },
          "metadata": {
            "tags": []
          },
          "execution_count": 16
        }
      ]
    },
    {
      "cell_type": "code",
      "metadata": {
        "colab": {
          "base_uri": "https://localhost:8080/",
          "height": 428
        },
        "id": "VfGjjx5j3wtr",
        "outputId": "420186cf-a0ce-4a81-9c30-4047d4966776"
      },
      "source": [
        "df['TIME'] = pd.date_range('00:00', '23:59', freq='1min')\r\n",
        "df = df.set_index('TIME')\r\n",
        "df"
      ],
      "execution_count": 19,
      "outputs": [
        {
          "output_type": "execute_result",
          "data": {
            "text/html": [
              "<div>\n",
              "<style scoped>\n",
              "    .dataframe tbody tr th:only-of-type {\n",
              "        vertical-align: middle;\n",
              "    }\n",
              "\n",
              "    .dataframe tbody tr th {\n",
              "        vertical-align: top;\n",
              "    }\n",
              "\n",
              "    .dataframe thead th {\n",
              "        text-align: right;\n",
              "    }\n",
              "</style>\n",
              "<table border=\"1\" class=\"dataframe\">\n",
              "  <thead>\n",
              "    <tr style=\"text-align: right;\">\n",
              "      <th></th>\n",
              "      <th>SEND</th>\n",
              "      <th>RECV</th>\n",
              "      <th>APPROVAL</th>\n",
              "      <th>REJECT</th>\n",
              "    </tr>\n",
              "    <tr>\n",
              "      <th>TIME</th>\n",
              "      <th></th>\n",
              "      <th></th>\n",
              "      <th></th>\n",
              "      <th></th>\n",
              "    </tr>\n",
              "  </thead>\n",
              "  <tbody>\n",
              "    <tr>\n",
              "      <th>2021-03-08 00:00:00</th>\n",
              "      <td>4779</td>\n",
              "      <td>5045</td>\n",
              "      <td>4024</td>\n",
              "      <td>755</td>\n",
              "    </tr>\n",
              "    <tr>\n",
              "      <th>2021-03-08 00:01:00</th>\n",
              "      <td>5103</td>\n",
              "      <td>5055</td>\n",
              "      <td>4196</td>\n",
              "      <td>907</td>\n",
              "    </tr>\n",
              "    <tr>\n",
              "      <th>2021-03-08 00:02:00</th>\n",
              "      <td>5035</td>\n",
              "      <td>5073</td>\n",
              "      <td>4653</td>\n",
              "      <td>382</td>\n",
              "    </tr>\n",
              "    <tr>\n",
              "      <th>2021-03-08 00:03:00</th>\n",
              "      <td>4757</td>\n",
              "      <td>4762</td>\n",
              "      <td>4530</td>\n",
              "      <td>227</td>\n",
              "    </tr>\n",
              "    <tr>\n",
              "      <th>2021-03-08 00:04:00</th>\n",
              "      <td>4639</td>\n",
              "      <td>4664</td>\n",
              "      <td>4425</td>\n",
              "      <td>214</td>\n",
              "    </tr>\n",
              "    <tr>\n",
              "      <th>...</th>\n",
              "      <td>...</td>\n",
              "      <td>...</td>\n",
              "      <td>...</td>\n",
              "      <td>...</td>\n",
              "    </tr>\n",
              "    <tr>\n",
              "      <th>2021-03-08 23:55:00</th>\n",
              "      <td>5280</td>\n",
              "      <td>5269</td>\n",
              "      <td>5110</td>\n",
              "      <td>170</td>\n",
              "    </tr>\n",
              "    <tr>\n",
              "      <th>2021-03-08 23:56:00</th>\n",
              "      <td>5202</td>\n",
              "      <td>5210</td>\n",
              "      <td>5056</td>\n",
              "      <td>146</td>\n",
              "    </tr>\n",
              "    <tr>\n",
              "      <th>2021-03-08 23:57:00</th>\n",
              "      <td>5210</td>\n",
              "      <td>5221</td>\n",
              "      <td>5006</td>\n",
              "      <td>204</td>\n",
              "    </tr>\n",
              "    <tr>\n",
              "      <th>2021-03-08 23:58:00</th>\n",
              "      <td>5111</td>\n",
              "      <td>5097</td>\n",
              "      <td>4935</td>\n",
              "      <td>176</td>\n",
              "    </tr>\n",
              "    <tr>\n",
              "      <th>2021-03-08 23:59:00</th>\n",
              "      <td>5202</td>\n",
              "      <td>5199</td>\n",
              "      <td>4940</td>\n",
              "      <td>262</td>\n",
              "    </tr>\n",
              "  </tbody>\n",
              "</table>\n",
              "<p>1440 rows × 4 columns</p>\n",
              "</div>"
            ],
            "text/plain": [
              "                     SEND  RECV  APPROVAL  REJECT\n",
              "TIME                                             \n",
              "2021-03-08 00:00:00  4779  5045      4024     755\n",
              "2021-03-08 00:01:00  5103  5055      4196     907\n",
              "2021-03-08 00:02:00  5035  5073      4653     382\n",
              "2021-03-08 00:03:00  4757  4762      4530     227\n",
              "2021-03-08 00:04:00  4639  4664      4425     214\n",
              "...                   ...   ...       ...     ...\n",
              "2021-03-08 23:55:00  5280  5269      5110     170\n",
              "2021-03-08 23:56:00  5202  5210      5056     146\n",
              "2021-03-08 23:57:00  5210  5221      5006     204\n",
              "2021-03-08 23:58:00  5111  5097      4935     176\n",
              "2021-03-08 23:59:00  5202  5199      4940     262\n",
              "\n",
              "[1440 rows x 4 columns]"
            ]
          },
          "metadata": {
            "tags": []
          },
          "execution_count": 19
        }
      ]
    },
    {
      "cell_type": "code",
      "metadata": {
        "colab": {
          "base_uri": "https://localhost:8080/",
          "height": 308
        },
        "id": "Q3TKkCMk4AHL",
        "outputId": "a6d83775-bafb-47f0-b70c-1f086fe10435"
      },
      "source": [
        "df['GAP'] = np.abs ( df.SEND - df.RECV )\r\n",
        "df.plot(y='GAP')"
      ],
      "execution_count": 21,
      "outputs": [
        {
          "output_type": "execute_result",
          "data": {
            "text/plain": [
              "<matplotlib.axes._subplots.AxesSubplot at 0x7fc2857cb690>"
            ]
          },
          "metadata": {
            "tags": []
          },
          "execution_count": 21
        },
        {
          "output_type": "display_data",
          "data": {
            "image/png": "[encoded data removed]",
            "text/plain": [
              "<Figure size 432x288 with 1 Axes>"
            ]
          },
          "metadata": {
            "tags": [],
            "needs_background": "light"
          }
        }
      ]
    },
    {
      "cell_type": "code",
      "metadata": {
        "colab": {
          "base_uri": "https://localhost:8080/",
          "height": 308
        },
        "id": "92RTovgA4KKQ",
        "outputId": "20ff79ca-3279-4039-9d7b-6e72e9eece3b"
      },
      "source": [
        "df['REJECT_AVG'] = df.REJECT / (df.APPROVAL + df.REJECT) * 100\r\n",
        "df.plot(y='REJECT_AVG')"
      ],
      "execution_count": 22,
      "outputs": [
        {
          "output_type": "execute_result",
          "data": {
            "text/plain": [
              "<matplotlib.axes._subplots.AxesSubplot at 0x7fc2852a2a10>"
            ]
          },
          "metadata": {
            "tags": []
          },
          "execution_count": 22
        },
        {
          "output_type": "display_data",
          "data": {
            "image/png": "[encoded data removed]",
            "text/plain": [
              "<Figure size 432x288 with 1 Axes>"
            ]
          },
          "metadata": {
            "tags": [],
            "needs_background": "light"
          }
        }
      ]
    },
    {
      "cell_type": "code",
      "metadata": {
        "colab": {
          "base_uri": "https://localhost:8080/"
        },
        "id": "YJYt_Wac4LfP",
        "outputId": "7058ca28-30af-4505-e8a4-18c975a25ccf"
      },
      "source": [
        "len(df)"
      ],
      "execution_count": 23,
      "outputs": [
        {
          "output_type": "execute_result",
          "data": {
            "text/plain": [
              "1440"
            ]
          },
          "metadata": {
            "tags": []
          },
          "execution_count": 23
        }
      ]
    },
    {
      "cell_type": "code",
      "metadata": {
        "colab": {
          "base_uri": "https://localhost:8080/"
        },
        "id": "6abs_3mN4OwU",
        "outputId": "37f8faa9-17bd-4ecb-a584-4708be6e89f3"
      },
      "source": [
        "np.arange(0, len(df))"
      ],
      "execution_count": 24,
      "outputs": [
        {
          "output_type": "execute_result",
          "data": {
            "text/plain": [
              "array([   0,    1,    2, ..., 1437, 1438, 1439])"
            ]
          },
          "metadata": {
            "tags": []
          },
          "execution_count": 24
        }
      ]
    },
    {
      "cell_type": "code",
      "metadata": {
        "colab": {
          "base_uri": "https://localhost:8080/"
        },
        "id": "hzhArLmg4PHJ",
        "outputId": "3472b2cb-62fb-463b-e483-fd9f17320d10"
      },
      "source": [
        "np.array(df.APPROVAL)"
      ],
      "execution_count": 25,
      "outputs": [
        {
          "output_type": "execute_result",
          "data": {
            "text/plain": [
              "array([4024, 4196, 4653, ..., 5006, 4935, 4940])"
            ]
          },
          "metadata": {
            "tags": []
          },
          "execution_count": 25
        }
      ]
    },
    {
      "cell_type": "code",
      "metadata": {
        "colab": {
          "base_uri": "https://localhost:8080/",
          "height": 308
        },
        "id": "uXuujqFL4RBw",
        "outputId": "4d833330-eb41-4a24-de19-d47b7df68f6b"
      },
      "source": [
        "fp = np.polyfit( np.arange(0, len(df)), np.array(df.APPROVAL), 8)\r\n",
        "fd = np.poly1d(fp)\r\n",
        "df['REGRESSION'] = fd( np.arange(0, len(df)) )\r\n",
        "df.plot(y=['APPROVAL','REGRESSION'])"
      ],
      "execution_count": 27,
      "outputs": [
        {
          "output_type": "execute_result",
          "data": {
            "text/plain": [
              "<matplotlib.axes._subplots.AxesSubplot at 0x7fc27c93e150>"
            ]
          },
          "metadata": {
            "tags": []
          },
          "execution_count": 27
        },
        {
          "output_type": "display_data",
          "data": {
            "image/png": "[encoded data removed]",
            "text/plain": [
              "<Figure size 432x288 with 1 Axes>"
            ]
          },
          "metadata": {
            "tags": [],
            "needs_background": "light"
          }
        }
      ]
    },
    {
      "cell_type": "code",
      "metadata": {
        "colab": {
          "base_uri": "https://localhost:8080/"
        },
        "id": "0JjprsiH4X8t",
        "outputId": "e010b49d-9197-4a23-ca94-08cf9a60a069"
      },
      "source": [
        "((df.APPROVAL-df.REGRESSION) **2).sum() / 1440"
      ],
      "execution_count": 29,
      "outputs": [
        {
          "output_type": "execute_result",
          "data": {
            "text/plain": [
              "2289273.532760556"
            ]
          },
          "metadata": {
            "tags": []
          },
          "execution_count": 29
        }
      ]
    },
    {
      "cell_type": "code",
      "metadata": {
        "colab": {
          "base_uri": "https://localhost:8080/"
        },
        "id": "lQMwwEN04dUZ",
        "outputId": "bd29d7b7-7b40-4097-cb93-7c48745f5d91"
      },
      "source": [
        "((df.APPROVAL - df.REGRESSION) **2).mean()"
      ],
      "execution_count": 30,
      "outputs": [
        {
          "output_type": "execute_result",
          "data": {
            "text/plain": [
              "2289273.5327605517"
            ]
          },
          "metadata": {
            "tags": []
          },
          "execution_count": 30
        }
      ]
    },
    {
      "cell_type": "code",
      "metadata": {
        "colab": {
          "base_uri": "https://localhost:8080/"
        },
        "id": "7ZgVpar94ibO",
        "outputId": "3e6373d4-608e-49f6-ef68-1ebd4244bec2"
      },
      "source": [
        "mse=((df.APPROVAL- df.REGRESSION) **2).mean()\r\n",
        "rmse = np.sqrt(mse)\r\n",
        "rmse, mse"
      ],
      "execution_count": 32,
      "outputs": [
        {
          "output_type": "execute_result",
          "data": {
            "text/plain": [
              "(1513.0345444703341, 2289273.5327605517)"
            ]
          },
          "metadata": {
            "tags": []
          },
          "execution_count": 32
        }
      ]
    },
    {
      "cell_type": "code",
      "metadata": {
        "id": "RJL7TQLH4n7-"
      },
      "source": [
        "hh_list = np.array ( df.APPROVAL ).reshape(24, 60)"
      ],
      "execution_count": 34,
      "outputs": []
    },
    {
      "cell_type": "code",
      "metadata": {
        "colab": {
          "base_uri": "https://localhost:8080/"
        },
        "id": "sIrcKBuW4mQz",
        "outputId": "c79fc322-c05b-4e26-ad9c-eab1ffab118e"
      },
      "source": [
        "hh_list.shape"
      ],
      "execution_count": 35,
      "outputs": [
        {
          "output_type": "execute_result",
          "data": {
            "text/plain": [
              "(24, 60)"
            ]
          },
          "metadata": {
            "tags": []
          },
          "execution_count": 35
        }
      ]
    },
    {
      "cell_type": "code",
      "metadata": {
        "colab": {
          "base_uri": "https://localhost:8080/",
          "height": 311
        },
        "id": "FgMW10_f4tE9",
        "outputId": "dc4d9f36-c517-4fb2-ac21-9c63ba1411bf"
      },
      "source": [
        "reg_list = []\r\n",
        "for mm_list in hh_list:\r\n",
        "  x = np.arange(0, 60)\r\n",
        "  y = mm_list\r\n",
        "  fp = np.polyfit(x, y, 4)\r\n",
        "  fn = np.poly1d(fp)\r\n",
        "  reg_list.append(fn(x))\r\n",
        "\r\n",
        "df['REGRESSION_H'] = np.array(reg_list).flatten() \r\n",
        "df.plot(y=['REGRESSION','REGRESSION_H']) "
      ],
      "execution_count": 38,
      "outputs": [
        {
          "output_type": "execute_result",
          "data": {
            "text/plain": [
              "<matplotlib.axes._subplots.AxesSubplot at 0x7fc27c833250>"
            ]
          },
          "metadata": {
            "tags": []
          },
          "execution_count": 38
        },
        {
          "output_type": "display_data",
          "data": {
            "image/png": "[encoded data removed]",
            "text/plain": [
              "<Figure size 432x288 with 1 Axes>"
            ]
          },
          "metadata": {
            "tags": [],
            "needs_background": "light"
          }
        }
      ]
    }
  ]
}