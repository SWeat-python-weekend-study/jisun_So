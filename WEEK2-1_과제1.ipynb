{
  "nbformat": 4,
  "nbformat_minor": 0,
  "metadata": {
    "celltoolbar": "Edit Metadata",
    "kernelspec": {
      "display_name": "Python 3",
      "language": "python",
      "name": "python3"
    },
    "language_info": {
      "codemirror_mode": {
        "name": "ipython",
        "version": 3
      },
      "file_extension": ".py",
      "mimetype": "text/x-python",
      "name": "python",
      "nbconvert_exporter": "python",
      "pygments_lexer": "ipython3",
      "version": "3.7.6"
    },
    "colab": {
      "name": "2-1.넘파이 배열.ipynb",
      "provenance": [],
      "include_colab_link": true
    }
  },
  "cells": [
    {
      "cell_type": "markdown",
      "metadata": {
        "id": "view-in-github",
        "colab_type": "text"
      },
      "source": [
        "<a href=\"https://colab.research.google.com/github/SWeat-python-weekend-study/jisun_So/blob/main/WEEK2-1_%EA%B3%BC%EC%A0%9C1.ipynb\" target=\"_parent\"><img src=\"https://colab.research.google.com/assets/colab-badge.svg\" alt=\"Open In Colab\"/></a>"
      ]
    },
    {
      "cell_type": "markdown",
      "metadata": {
        "id": "QeRRftjfG-QW"
      },
      "source": [
        "[출처](https://datascienceschool.net/01%20python/03.01%20%EB%84%98%ED%8C%8C%EC%9D%B4%20%EB%B0%B0%EC%97%B4.html)"
      ]
    },
    {
      "cell_type": "markdown",
      "metadata": {
        "school_cell_uuid": "1d5d014482ab49ad8d4028b5ce0dcdeb",
        "id": "K0rb7k-jF5oD"
      },
      "source": [
        "# 3.1 넘파이 배열"
      ]
    },
    {
      "cell_type": "markdown",
      "metadata": {
        "id": "FzNmL_W9F5oU"
      },
      "source": [
        "```{margin}\n",
        "넘파이(NumPy)\n",
        "```"
      ]
    },
    {
      "cell_type": "markdown",
      "metadata": {
        "school_cell_uuid": "f7843625353f44dea6e562e075d86228",
        "id": "Dy1S_ehYF5oW"
      },
      "source": [
        "많은 숫자 데이터를 하나의 변수에 넣고 관리 할 때 **리스트는 속도가 느리고 메모리를 많이 차지하는 단점**이 있다. **배열(array)을 사용하면 적은 메모리로 많은 데이터를 빠르게 처리**할 수 있다. 배열은 리스트와 비슷하지만 다음과 같은 점에서 다르다.\n",
        "\n",
        "1. 모든 원소가 **같은 자료형**이어야 한다.\n",
        "2. 원소의 **갯수를 바꿀 수 없다**."
      ]
    },
    {
      "cell_type": "markdown",
      "metadata": {
        "school_cell_uuid": "cfb0244956b14316a7c8f49bcd4e204a",
        "id": "zngkvNz8F5oX"
      },
      "source": [
        "파이썬은 자체적으로 배열 자료형을 제공하지 않는다. 따라서 배열을 구현한 다른 패키지를 임포트해야 한다. **파이썬에서 배열을 사용하기 위한 표준 패키지는 넘파이(NumPy)다.**"
      ]
    },
    {
      "cell_type": "markdown",
      "metadata": {
        "id": "ODkxYVJUF5oY"
      },
      "source": [
        "```{margin}\n",
        "`ndarray`\n",
        "```"
      ]
    },
    {
      "cell_type": "markdown",
      "metadata": {
        "school_cell_uuid": "1a178fe5cc2b4334a27a43bf5b003ad6",
        "id": "2T6A4BEsF5oZ"
      },
      "source": [
        "넘파이는 수치해석용 파이썬 패키지이다. 다차원의 배열 자료구조 클래스인 `ndarray` 클래스를 지원하며 벡터와 행렬을 사용하는 선형대수 계산에 주로 사용된다. 내부적으로는 BLAS 라이브러리와 LAPACK 라이브러리를 사용하고 있으며 C로 구현된 CPython에서만 사용할 수 있다. \n",
        "\n",
        "**넘파이의 배열 연산은 C로 구현된 내부 반복문을 사용하기 때문에 파이썬 반복문에 비해 속도가 빠르며** 벡터화 연산(vectorized operation)을 이용하여 간단한 코드로도 복잡한 선형 대수 연산을 수행할 수 있다. 또한 배열 인덱싱(array indexing)을 사용한 질의(Query) 기능을 이용하여 간단한 코드로도 복잡한 수식을 계산할 수 있다."
      ]
    },
    {
      "cell_type": "markdown",
      "metadata": {
        "school_cell_uuid": "e3b31d1562df432198df5f1a4e74f992",
        "id": "LGxZu5i2F5oc"
      },
      "source": [
        "## 넘파이 패키지 임포트"
      ]
    },
    {
      "cell_type": "markdown",
      "metadata": {
        "school_cell_uuid": "f666b97051b94071a2b004d589c3ba33",
        "id": "cqCkEKJeF5oc"
      },
      "source": [
        "배열을 사용하기 위해서는 우선 다음과 같이 넘파이 패키지를 임포트한다. 넘파이는 np라는 이름으로 임포트하는 것이 관례이다."
      ]
    },
    {
      "cell_type": "code",
      "metadata": {
        "school_cell_uuid": "7dcc7126d45b41569e7f8271381184dc",
        "id": "UNSMnZZqF5of"
      },
      "source": [
        "import numpy as np"
      ],
      "execution_count": 1,
      "outputs": []
    },
    {
      "cell_type": "markdown",
      "metadata": {
        "school_cell_uuid": "ee071c08f58c41f68f4b6da25ebecccd",
        "id": "BdBQ6NOIF5oi"
      },
      "source": [
        "## 1차원 배열 만들기"
      ]
    },
    {
      "cell_type": "markdown",
      "metadata": {
        "id": "j7PSkF_kF5oj"
      },
      "source": [
        "```{margin}\n",
        "`array`\n",
        "```"
      ]
    },
    {
      "cell_type": "markdown",
      "metadata": {
        "school_cell_uuid": "e56e2a3ee38045f7ade1c9d0269aba19",
        "id": "YUnJ3dowF5ok"
      },
      "source": [
        "넘파이의 `array` 함수에 **리스트**를 넣으면 `ndarray` 클래스 객체 즉, **배열로 변환해 준다**. 따라서 1 차원 배열을 만드는 방법은 다음과 같다."
      ]
    },
    {
      "cell_type": "code",
      "metadata": {
        "school_cell_uuid": "afeba59dccfe4175b4d3369a1e88b525",
        "id": "I8wD_wooF5ol",
        "outputId": "0b8b9f36-d5f0-48e6-defa-41ac725272ff",
        "colab": {
          "base_uri": "https://localhost:8080/"
        }
      },
      "source": [
        "ar = np.array([0, 1, 2, 3, 4, 5, 6, 7, 8, 9])\n",
        "ar"
      ],
      "execution_count": 2,
      "outputs": [
        {
          "output_type": "execute_result",
          "data": {
            "text/plain": [
              "array([0, 1, 2, 3, 4, 5, 6, 7, 8, 9])"
            ]
          },
          "metadata": {
            "tags": []
          },
          "execution_count": 2
        }
      ]
    },
    {
      "cell_type": "markdown",
      "metadata": {
        "school_cell_uuid": "288889aa9d304d9197d37c76a9e9e69f",
        "id": "utSiJ4_pF5oo"
      },
      "source": [
        "리스트와 비슷해 보이지만 `type` 명령으로 자료형을 살펴보면 ndarray임을 알 수 있다."
      ]
    },
    {
      "cell_type": "code",
      "metadata": {
        "school_cell_uuid": "a6194df0afae4814bf2cdd90ab68ceab",
        "id": "bIiGzIhZF5op",
        "outputId": "09974b3e-ca86-4311-9a20-95770a088b32",
        "colab": {
          "base_uri": "https://localhost:8080/"
        }
      },
      "source": [
        "type(ar)"
      ],
      "execution_count": 3,
      "outputs": [
        {
          "output_type": "execute_result",
          "data": {
            "text/plain": [
              "numpy.ndarray"
            ]
          },
          "metadata": {
            "tags": []
          },
          "execution_count": 3
        }
      ]
    },
    {
      "cell_type": "markdown",
      "metadata": {
        "school_cell_uuid": "ab6c357116f1457d95520f03d84d09f2",
        "id": "D3H_z2pkF5oq"
      },
      "source": [
        "만들어진 `ndarray` 객체의 표현식(representation)을 보면 바깥쪽에 array()란 것이 붙어 있을 뿐 리스트와 동일한 구조처럼 보인다. 그러나 배열 객체와 리스트 객체는 많은 차이가 있다. \n",
        "\n",
        "우선 리스트 클래스 객체는 각각의 원소가 다른 자료형이 될 수 있다. **그러나 배열 객체 객체는 C언어의 배열처럼 연속적인 메모리 배치를 가지기 때문에 모든 원소가 같은 자료형**이어야 한다. 이러한 제약사항이 있는 대신 원소에 대한 접근과 반복문 실행이 빨라진다."
      ]
    },
    {
      "cell_type": "markdown",
      "metadata": {
        "school_cell_uuid": "48a3dc367a26446b996d746f901aa219",
        "id": "PN1PjlsoF5oq"
      },
      "source": [
        "## 벡터화 연산"
      ]
    },
    {
      "cell_type": "markdown",
      "metadata": {
        "id": "o0Hs8cxYF5or"
      },
      "source": [
        "```{margin}\n",
        "벡터화 연산(vectorized operation)\n",
        "```"
      ]
    },
    {
      "cell_type": "markdown",
      "metadata": {
        "school_cell_uuid": "194b49dd2d754adf84543561635c43f8",
        "id": "pfgaQFX9F5os"
      },
      "source": [
        "배열 객체는 *배열의 각 원소에 대한 반복 연산을 하나의 명령어로 처리*하는 **벡터화 연산(vectorized operation)**을 지원한다. 예를 들어 다음처럼 여러개의 데이터를 모두 2배 해야 하는 경우를 생각하자. "
      ]
    },
    {
      "cell_type": "code",
      "metadata": {
        "school_cell_uuid": "f0b12731085740e0ba726b012447f86a",
        "id": "IJKDeL56F5ot"
      },
      "source": [
        "data = [0, 1, 2, 3, 4, 5, 6, 7, 8, 9]"
      ],
      "execution_count": 4,
      "outputs": []
    },
    {
      "cell_type": "markdown",
      "metadata": {
        "school_cell_uuid": "a09ae0694f3e48d78f4e69311f986c8a",
        "id": "mxQINz8OF5ot"
      },
      "source": [
        "for 반복문을 사용하면 다음과 같이 구현할 수 있다."
      ]
    },
    {
      "cell_type": "code",
      "metadata": {
        "school_cell_uuid": "7dffaa9dc59e40cc89b9f2360f227193",
        "id": "IxrpU8k7F5ou",
        "outputId": "8ca69121-843a-4d86-979b-1a9c546a8964",
        "colab": {
          "base_uri": "https://localhost:8080/"
        }
      },
      "source": [
        "answer = []\n",
        "for di in data:\n",
        "    answer.append(2 * di)\n",
        "answer"
      ],
      "execution_count": 5,
      "outputs": [
        {
          "output_type": "execute_result",
          "data": {
            "text/plain": [
              "[0, 2, 4, 6, 8, 10, 12, 14, 16, 18]"
            ]
          },
          "metadata": {
            "tags": []
          },
          "execution_count": 5
        }
      ]
    },
    {
      "cell_type": "markdown",
      "metadata": {
        "school_cell_uuid": "aeb067be23cf4c72acc470ef7aecea50",
        "id": "iO0lPcKaF5ov"
      },
      "source": [
        "하지만 벡터화 연산을 사용하면 다음과 같이 for 반복문이 없이 한번의 연산으로 할 수 있다. 계산 속도도 반복문을 사용할 때 보다 훨씬 빠르다."
      ]
    },
    {
      "cell_type": "code",
      "metadata": {
        "school_cell_uuid": "2ed2bac262574db28eabe979e1dfe7f1",
        "id": "LZoqYYfQF5ow",
        "outputId": "078ddbd7-c3b7-4e7b-d788-d590a3b08f6e",
        "colab": {
          "base_uri": "https://localhost:8080/"
        }
      },
      "source": [
        "x = np.array(data)\n",
        "x"
      ],
      "execution_count": 6,
      "outputs": [
        {
          "output_type": "execute_result",
          "data": {
            "text/plain": [
              "array([0, 1, 2, 3, 4, 5, 6, 7, 8, 9])"
            ]
          },
          "metadata": {
            "tags": []
          },
          "execution_count": 6
        }
      ]
    },
    {
      "cell_type": "code",
      "metadata": {
        "school_cell_uuid": "d6fc4d077406403185e13e3b93188e63",
        "id": "7jvPQtjhF5ox",
        "outputId": "cbd3e78a-a300-433c-aa74-ad5d0078d8aa",
        "colab": {
          "base_uri": "https://localhost:8080/"
        }
      },
      "source": [
        "2 * x"
      ],
      "execution_count": 7,
      "outputs": [
        {
          "output_type": "execute_result",
          "data": {
            "text/plain": [
              "array([ 0,  2,  4,  6,  8, 10, 12, 14, 16, 18])"
            ]
          },
          "metadata": {
            "tags": []
          },
          "execution_count": 7
        }
      ]
    },
    {
      "cell_type": "markdown",
      "metadata": {
        "school_cell_uuid": "7d9078be25c14571bd0c662e15fd8b0d",
        "id": "Szp2TWbFF5oy"
      },
      "source": [
        "참고로 일반적인 리스트 객체에 정수를 곱하면 객체의 크기가 정수배 만큼으로 증가한다."
      ]
    },
    {
      "cell_type": "code",
      "metadata": {
        "school_cell_uuid": "a7938d441f6f447ea4f75e2a318693ca",
        "id": "9D2hfmlCF5oz",
        "outputId": "4dbdb25e-6c30-44ac-d88d-73037ee5cdb7",
        "colab": {
          "base_uri": "https://localhost:8080/"
        }
      },
      "source": [
        "L = [0, 1, 2, 3, 4, 5, 6, 7, 8, 9]\n",
        "print(2 * L)"
      ],
      "execution_count": 8,
      "outputs": [
        {
          "output_type": "stream",
          "text": [
            "[0, 1, 2, 3, 4, 5, 6, 7, 8, 9, 0, 1, 2, 3, 4, 5, 6, 7, 8, 9]\n"
          ],
          "name": "stdout"
        }
      ]
    },
    {
      "cell_type": "markdown",
      "metadata": {
        "school_cell_uuid": "4d67dfa48a7c4f58b1602a44709e61d5",
        "id": "OWnXo84mF5o0"
      },
      "source": [
        "벡터화 연산은 비교 연산과 논리 연산을 포함한 **모든 종류의 수학 연산**에 대해 적용된다. 선형 대수에 적용되는 벡터화 연산에 대해서는 나중에 보다 자세히 설명한다."
      ]
    },
    {
      "cell_type": "code",
      "metadata": {
        "school_cell_uuid": "8deee9a63356446a97383cf4fb221eed",
        "id": "9O8RhgxoF5o0"
      },
      "source": [
        "a = np.array([1, 2, 3])\n",
        "b = np.array([10, 20, 30])"
      ],
      "execution_count": 9,
      "outputs": []
    },
    {
      "cell_type": "code",
      "metadata": {
        "school_cell_uuid": "98792bb1ad1e447fa7356fb22aa40d86",
        "id": "4eZMPli2F5o1",
        "outputId": "a39a2668-46e4-4736-ca90-6ad83f71e0b8",
        "colab": {
          "base_uri": "https://localhost:8080/"
        }
      },
      "source": [
        "2 * a + b"
      ],
      "execution_count": 10,
      "outputs": [
        {
          "output_type": "execute_result",
          "data": {
            "text/plain": [
              "array([12, 24, 36])"
            ]
          },
          "metadata": {
            "tags": []
          },
          "execution_count": 10
        }
      ]
    },
    {
      "cell_type": "code",
      "metadata": {
        "school_cell_uuid": "26477a92c60342778fb4991f7bc36026",
        "id": "ZS_9pEgdF5o2",
        "outputId": "3ed4d0f2-7d7e-454d-e060-7e4ed985f0c2",
        "colab": {
          "base_uri": "https://localhost:8080/"
        }
      },
      "source": [
        "a == 2"
      ],
      "execution_count": 11,
      "outputs": [
        {
          "output_type": "execute_result",
          "data": {
            "text/plain": [
              "array([False,  True, False])"
            ]
          },
          "metadata": {
            "tags": []
          },
          "execution_count": 11
        }
      ]
    },
    {
      "cell_type": "code",
      "metadata": {
        "school_cell_uuid": "a7654eee079a404fa1aef17ddc0554ca",
        "id": "JSLbuKfLF5o4",
        "outputId": "b788a04f-1396-4d8f-8b9b-2d96611b3b71",
        "colab": {
          "base_uri": "https://localhost:8080/"
        }
      },
      "source": [
        "b > 10"
      ],
      "execution_count": 12,
      "outputs": [
        {
          "output_type": "execute_result",
          "data": {
            "text/plain": [
              "array([False,  True,  True])"
            ]
          },
          "metadata": {
            "tags": []
          },
          "execution_count": 12
        }
      ]
    },
    {
      "cell_type": "code",
      "metadata": {
        "school_cell_uuid": "682f4db02aaa4edd8f3235a0d56934a5",
        "id": "H8Q6o82CF5o4",
        "outputId": "d23d642c-062d-467d-bebd-9294a354a5a9",
        "colab": {
          "base_uri": "https://localhost:8080/"
        }
      },
      "source": [
        "(a == 2) & (b > 10)"
      ],
      "execution_count": 13,
      "outputs": [
        {
          "output_type": "execute_result",
          "data": {
            "text/plain": [
              "array([False,  True, False])"
            ]
          },
          "metadata": {
            "tags": []
          },
          "execution_count": 13
        }
      ]
    },
    {
      "cell_type": "markdown",
      "metadata": {
        "school_cell_uuid": "ebc04b8bb8fa41bba5a41fddd3bf8666",
        "id": "D_fnXQO6F5o5"
      },
      "source": [
        "## 2차원 배열 만들기"
      ]
    },
    {
      "cell_type": "markdown",
      "metadata": {
        "school_cell_uuid": "378f0b8ae4634096ad09c417627b2061",
        "id": "L9-V2409F5o6"
      },
      "source": [
        "`ndarray` 는 N-dimensional Array의 약자이다. 이름 그대로 1차원 배열 이외에도 2차원 배열, 3차원 배열 등의 **다차원 배열 자료 구조를 지원**한다. \n",
        "2차원 배열은 **행렬(matrix)**이라고 하는데 행렬에서는 가로줄을 행(row)이라고 하고 세로줄을 열(column)이라고 부른다.\n",
        "\n",
        "다음과 같이 리스트의 리스트(list of list)를 이용하면 2차원 배열을 생성할 수 있다. 안쪽 리스트의 길이는 행렬의 열의 수 즉, 가로 크기가 되고 바깥쪽 리스트의 길이는 행렬의 행의 수, 즉 세로 크기가 된다. 예를 들어 2개의 행과 3개의 열을 가지는 2 x 3 배열은 다음과 같이 만든다."
      ]
    },
    {
      "cell_type": "code",
      "metadata": {
        "school_cell_uuid": "797f19075e4f4003b382715c1d6e9138",
        "id": "olGTWQIEF5o8",
        "outputId": "d17c8882-dd0e-41b8-b359-be632827d357",
        "colab": {
          "base_uri": "https://localhost:8080/"
        }
      },
      "source": [
        "c = np.array([[0, 1, 2], [3, 4, 5]])  # 2 x 3 array\n",
        "c"
      ],
      "execution_count": 14,
      "outputs": [
        {
          "output_type": "execute_result",
          "data": {
            "text/plain": [
              "array([[0, 1, 2],\n",
              "       [3, 4, 5]])"
            ]
          },
          "metadata": {
            "tags": []
          },
          "execution_count": 14
        }
      ]
    },
    {
      "cell_type": "markdown",
      "metadata": {
        "school_cell_uuid": "66edc3a371b54b3fa6498e132e5ac1eb",
        "id": "n_8kEAthF5o9"
      },
      "source": [
        "2차원 배열의 행과 열의 갯수는 다음처럼 구한다."
      ]
    },
    {
      "cell_type": "code",
      "metadata": {
        "school_cell_uuid": "1630c5bd29cc4b07998cfe5ff7814f45",
        "id": "-sBZWGPKF5o-",
        "outputId": "8d1dde00-895c-4be0-a0f1-5e4801666d16",
        "colab": {
          "base_uri": "https://localhost:8080/"
        }
      },
      "source": [
        "# 행의 갯수\n",
        "len(c)"
      ],
      "execution_count": 15,
      "outputs": [
        {
          "output_type": "execute_result",
          "data": {
            "text/plain": [
              "2"
            ]
          },
          "metadata": {
            "tags": []
          },
          "execution_count": 15
        }
      ]
    },
    {
      "cell_type": "code",
      "metadata": {
        "school_cell_uuid": "75e93d35ef5c463dad24eef20d3f3e31",
        "id": "V_DmEEbCF5pA",
        "outputId": "70a2b1e3-8a04-44da-b940-52ea151156bb",
        "colab": {
          "base_uri": "https://localhost:8080/"
        }
      },
      "source": [
        "# 열의 갯수\n",
        "len(c[0])"
      ],
      "execution_count": 16,
      "outputs": [
        {
          "output_type": "execute_result",
          "data": {
            "text/plain": [
              "3"
            ]
          },
          "metadata": {
            "tags": []
          },
          "execution_count": 16
        }
      ]
    },
    {
      "cell_type": "markdown",
      "metadata": {
        "bootstrap": {
          "panel": {
            "class": "panel-default"
          }
        },
        "school_cell_uuid": "99f97f40b7574ec59bbdc76cce36733c",
        "id": "XZRxCXbiF5pB"
      },
      "source": [
        "**<스스로> 연습 문제1**\n",
        "\n",
        "````{admonition} 연습 문제 1\n",
        "\n",
        "넘파이를 사용하여 다음과 같은 행렬을 만든다.\n",
        "\n",
        "```\n",
        "10 20 30 40\n",
        "50 60 70 80\n",
        "```\n",
        "````"
      ]
    },
    {
      "cell_type": "code",
      "metadata": {
        "id": "Db1s803rQ0CM",
        "outputId": "92bf0d09-1fd5-4da2-da01-29c62628b7b2",
        "colab": {
          "base_uri": "https://localhost:8080/"
        }
      },
      "source": [
        "n = np.array([[10,20,30,40],[50,60,70,80]])\r\n",
        "n"
      ],
      "execution_count": 43,
      "outputs": [
        {
          "output_type": "execute_result",
          "data": {
            "text/plain": [
              "array([[10, 20, 30, 40],\n",
              "       [50, 60, 70, 80]])"
            ]
          },
          "metadata": {
            "tags": []
          },
          "execution_count": 43
        }
      ]
    },
    {
      "cell_type": "markdown",
      "metadata": {
        "school_cell_uuid": "bc89de5ce6a940338743361ca3e7daff",
        "id": "I7CmwakaF5pG"
      },
      "source": [
        "## 3차원 배열 만들기"
      ]
    },
    {
      "cell_type": "markdown",
      "metadata": {
        "school_cell_uuid": "efadb2d4c81a4a6b87f55661b01da5e7",
        "id": "jI_7hv9iF5pG"
      },
      "source": [
        "리스트의 리스트의 리스트를 이용하면 3차원 배열도 생성할 수 있다. 크기를 나타낼 때는 가장 바깥쪽 리스트의 길이부터 가장 안쪽 리스트 길이의 순서로 표시한다. 예를 들어 2 x 3 x 4 배열은 다음과 같이 만든다."
      ]
    },
    {
      "cell_type": "code",
      "metadata": {
        "school_cell_uuid": "fedd59bc2e414e72a285d8d9aee29faf",
        "id": "dY1fBKHaF5pH"
      },
      "source": [
        "d = np.array([[[1, 2, 3, 4],\n",
        "               [5, 6, 7, 8],\n",
        "               [9, 10, 11, 12]],\n",
        "              [[11, 12, 13, 14],\n",
        "               [15, 16, 17, 18],\n",
        "               [19, 20, 21, 22]]])   # 2 x 3 x 4 array"
      ],
      "execution_count": 17,
      "outputs": []
    },
    {
      "cell_type": "markdown",
      "metadata": {
        "school_cell_uuid": "c6f7e632b6d046efac91acedd7bad09a",
        "id": "3Ns1BwTSF5pI"
      },
      "source": [
        "3차원 배열의 깊이, 행, 열은 다음과 같이 구할 수 있다."
      ]
    },
    {
      "cell_type": "code",
      "metadata": {
        "school_cell_uuid": "228226e0146340f3b4d170833fa561a5",
        "id": "bBAmP33FF5pI",
        "outputId": "8db89990-4fe8-4d38-d007-aa1e820d8a61",
        "colab": {
          "base_uri": "https://localhost:8080/"
        }
      },
      "source": [
        "len(d), len(d[0]), len(d[0][0])"
      ],
      "execution_count": 18,
      "outputs": [
        {
          "output_type": "execute_result",
          "data": {
            "text/plain": [
              "(2, 3, 4)"
            ]
          },
          "metadata": {
            "tags": []
          },
          "execution_count": 18
        }
      ]
    },
    {
      "cell_type": "markdown",
      "metadata": {
        "school_cell_uuid": "435df86b52ed4804ac61ac2cbba9c59c",
        "id": "8ASFjmsFF5pJ"
      },
      "source": [
        "## 배열의 차원과 크기 알아내기"
      ]
    },
    {
      "cell_type": "markdown",
      "metadata": {
        "id": "ukbNMCD9F5pK"
      },
      "source": [
        "```{margin}\n",
        "`ndim`\n",
        "```"
      ]
    },
    {
      "cell_type": "markdown",
      "metadata": {
        "id": "A20HYgG7F5pK"
      },
      "source": [
        "```{margin}\n",
        "`shape`\n",
        "```"
      ]
    },
    {
      "cell_type": "markdown",
      "metadata": {
        "school_cell_uuid": "a834daa613a145cf809cf4633040773a",
        "id": "wbru2ifaF5pL"
      },
      "source": [
        "배열의 차원 및 크기를 구하는 더 간단한 방법은 배열의 `ndim` 속성과 `shape` 속성을 이용하는 것이다. `ndim` 속성은 배열의 차원, `shape` 속성은 배열의 크기를 반환한다."
      ]
    },
    {
      "cell_type": "code",
      "metadata": {
        "school_cell_uuid": "0fb769f05ec249cf9e7d2c20941c37b9",
        "id": "vwSFO-6bF5pL",
        "outputId": "1b7b5c68-6053-4b6e-9ea1-03e4c747e1ba",
        "colab": {
          "base_uri": "https://localhost:8080/"
        }
      },
      "source": [
        "# a = np.array([1, 2, 3])\n",
        "print(a.ndim)\n",
        "print(a.shape)"
      ],
      "execution_count": 19,
      "outputs": [
        {
          "output_type": "stream",
          "text": [
            "1\n",
            "(3,)\n"
          ],
          "name": "stdout"
        }
      ]
    },
    {
      "cell_type": "code",
      "metadata": {
        "school_cell_uuid": "2ccbbe5bccd140a181e95e16b97799e6",
        "id": "R9a6-0iFF5pM",
        "outputId": "d3a3f584-aa7b-4d7d-c0df-bbe2f0dfa693",
        "colab": {
          "base_uri": "https://localhost:8080/"
        }
      },
      "source": [
        "# c = np.array([[0, 1, 2], [3, 4, 5]])\n",
        "print(c.ndim)\n",
        "print(c.shape)"
      ],
      "execution_count": 20,
      "outputs": [
        {
          "output_type": "stream",
          "text": [
            "2\n",
            "(2, 3)\n"
          ],
          "name": "stdout"
        }
      ]
    },
    {
      "cell_type": "code",
      "metadata": {
        "school_cell_uuid": "ef5aa51881654bbfb1efb1d3e9b27b55",
        "id": "luxngu7VF5pN",
        "outputId": "3bc29ddd-e739-4862-93ff-a9fbeb208a17",
        "colab": {
          "base_uri": "https://localhost:8080/"
        }
      },
      "source": [
        "print(d.ndim)\n",
        "print(d.shape)"
      ],
      "execution_count": 21,
      "outputs": [
        {
          "output_type": "stream",
          "text": [
            "3\n",
            "(2, 3, 4)\n"
          ],
          "name": "stdout"
        }
      ]
    },
    {
      "cell_type": "markdown",
      "metadata": {
        "school_cell_uuid": "d4755f7878e541e7bb13e019ff9a9083",
        "id": "LOLZ-c8fF5pO"
      },
      "source": [
        "## 배열의 인덱싱"
      ]
    },
    {
      "cell_type": "markdown",
      "metadata": {
        "school_cell_uuid": "ad44a47e3f2f4eb6956a2be0fece6f3f",
        "id": "qiIfMhXZF5pO"
      },
      "source": [
        "일차원 배열의 인덱싱은 리스트의 인덱싱과 같다. "
      ]
    },
    {
      "cell_type": "code",
      "metadata": {
        "school_cell_uuid": "f7a6485287dc428c80fd57426c8bbffa",
        "id": "MIBgCWo_F5pQ"
      },
      "source": [
        "a = np.array([0, 1, 2, 3, 4])"
      ],
      "execution_count": 22,
      "outputs": []
    },
    {
      "cell_type": "code",
      "metadata": {
        "school_cell_uuid": "19a6dcba1b9b4a719a192a6dd4daea0d",
        "id": "JpWA5WGnF5pR",
        "outputId": "73455bb3-4307-405d-95d9-120ea9472974",
        "colab": {
          "base_uri": "https://localhost:8080/"
        }
      },
      "source": [
        "a[2]"
      ],
      "execution_count": 23,
      "outputs": [
        {
          "output_type": "execute_result",
          "data": {
            "text/plain": [
              "2"
            ]
          },
          "metadata": {
            "tags": []
          },
          "execution_count": 23
        }
      ]
    },
    {
      "cell_type": "code",
      "metadata": {
        "school_cell_uuid": "c34f99447c0a495aa1a5ffd62a07dd84",
        "id": "z4N9GMiWF5pS",
        "outputId": "b2466a70-b241-41c5-ef3a-8f47d7a61e32",
        "colab": {
          "base_uri": "https://localhost:8080/"
        }
      },
      "source": [
        "a[-1]"
      ],
      "execution_count": 24,
      "outputs": [
        {
          "output_type": "execute_result",
          "data": {
            "text/plain": [
              "4"
            ]
          },
          "metadata": {
            "tags": []
          },
          "execution_count": 24
        }
      ]
    },
    {
      "cell_type": "markdown",
      "metadata": {
        "id": "Do0iNBduF5pU"
      },
      "source": [
        "```{margin}\n",
        "축(axis)\n",
        "```"
      ]
    },
    {
      "cell_type": "markdown",
      "metadata": {
        "school_cell_uuid": "738eb68556a74178bea7c08a1ed83df8",
        "id": "MvSVC6f3F5pV"
      },
      "source": [
        "다차원 배열일 때는 다음과 같이 콤마(comma ,)를 사용하여 접근할 수 있다. 콤마로 구분된 차원을 축(axis)이라고도 한다. 그래프의 x축과 y축을 떠올리면 될 것이다."
      ]
    },
    {
      "cell_type": "markdown",
      "metadata": {
        "id": "68B3WQmM7zOg"
      },
      "source": [
        "![axis](https://miro.medium.com/max/1634/0*fr4sfcnDc0KsXA8P.png)"
      ]
    },
    {
      "cell_type": "code",
      "metadata": {
        "school_cell_uuid": "9576398b7fcf4e4e95739ba9643f782c",
        "id": "1HkbYkn6F5pV",
        "outputId": "361a9b62-44f9-45cb-ddb1-8b36775a5259",
        "colab": {
          "base_uri": "https://localhost:8080/"
        }
      },
      "source": [
        "a = np.array([[0, 1, 2], [3, 4, 5]])\n",
        "a"
      ],
      "execution_count": 25,
      "outputs": [
        {
          "output_type": "execute_result",
          "data": {
            "text/plain": [
              "array([[0, 1, 2],\n",
              "       [3, 4, 5]])"
            ]
          },
          "metadata": {
            "tags": []
          },
          "execution_count": 25
        }
      ]
    },
    {
      "cell_type": "code",
      "metadata": {
        "school_cell_uuid": "3db29f4a615749fbbe5d95c211ff8b44",
        "id": "nEu0QGGzF5pW",
        "outputId": "bb52fef4-1e51-4e37-dfcc-4a88d3acdadc",
        "colab": {
          "base_uri": "https://localhost:8080/"
        }
      },
      "source": [
        "a[0, 0]  # 첫번째 행의 첫번째 열"
      ],
      "execution_count": 26,
      "outputs": [
        {
          "output_type": "execute_result",
          "data": {
            "text/plain": [
              "0"
            ]
          },
          "metadata": {
            "tags": []
          },
          "execution_count": 26
        }
      ]
    },
    {
      "cell_type": "code",
      "metadata": {
        "school_cell_uuid": "5c1286972e914d98a09fed0e20443a2c",
        "id": "G0FHjphzF5pX",
        "outputId": "08f703b2-9924-4278-d9f0-910e6a4b2b26",
        "colab": {
          "base_uri": "https://localhost:8080/"
        }
      },
      "source": [
        "a[0, 1]  # 첫번째 행의 두번째 열"
      ],
      "execution_count": 27,
      "outputs": [
        {
          "output_type": "execute_result",
          "data": {
            "text/plain": [
              "1"
            ]
          },
          "metadata": {
            "tags": []
          },
          "execution_count": 27
        }
      ]
    },
    {
      "cell_type": "code",
      "metadata": {
        "school_cell_uuid": "83fac0298f70445c9d7a65a373c4780a",
        "id": "BdCx_h4uF5pX",
        "outputId": "83b2ba7d-96a2-4c5d-e95f-8dc272c4fde7",
        "colab": {
          "base_uri": "https://localhost:8080/"
        }
      },
      "source": [
        "a[-1, -1]  # 마지막 행의 마지막 열"
      ],
      "execution_count": 28,
      "outputs": [
        {
          "output_type": "execute_result",
          "data": {
            "text/plain": [
              "5"
            ]
          },
          "metadata": {
            "tags": []
          },
          "execution_count": 28
        }
      ]
    },
    {
      "cell_type": "markdown",
      "metadata": {
        "school_cell_uuid": "f657419442c941f786574146a89c39db",
        "id": "l9eycJk_F5pY"
      },
      "source": [
        "## 배열 슬라이싱"
      ]
    },
    {
      "cell_type": "markdown",
      "metadata": {
        "school_cell_uuid": "d0b3eb8e9625482ab825b6ebb701c69c",
        "id": "_VoD_zi6F5pY"
      },
      "source": [
        "배열 객체로 구현한 다차원 배열의 원소 중 복수 개를 접근하려면 일반적인 파이썬 슬라이싱(slicing)과 comma(,)를 함께 사용하면 된다."
      ]
    },
    {
      "cell_type": "code",
      "metadata": {
        "school_cell_uuid": "1ea4a86c5ab34105bfaf76fb7eb56e86",
        "id": "gfiZbTFdF5pY",
        "outputId": "e9a3e984-ce70-4704-bc5d-c1bd0bd1a84c",
        "colab": {
          "base_uri": "https://localhost:8080/"
        }
      },
      "source": [
        "a = np.array([[0, 1, 2, 3], [4, 5, 6, 7]])\n",
        "a"
      ],
      "execution_count": 29,
      "outputs": [
        {
          "output_type": "execute_result",
          "data": {
            "text/plain": [
              "array([[0, 1, 2, 3],\n",
              "       [4, 5, 6, 7]])"
            ]
          },
          "metadata": {
            "tags": []
          },
          "execution_count": 29
        }
      ]
    },
    {
      "cell_type": "code",
      "metadata": {
        "school_cell_uuid": "bfea4995adda4a0382bada20bc976a78",
        "id": "2MNh3xAGF5pZ",
        "outputId": "eb25c17c-429d-4606-9b51-235a01aaed54",
        "colab": {
          "base_uri": "https://localhost:8080/"
        }
      },
      "source": [
        "a[0, :]  # 첫번째 행 전체"
      ],
      "execution_count": 30,
      "outputs": [
        {
          "output_type": "execute_result",
          "data": {
            "text/plain": [
              "array([0, 1, 2, 3])"
            ]
          },
          "metadata": {
            "tags": []
          },
          "execution_count": 30
        }
      ]
    },
    {
      "cell_type": "code",
      "metadata": {
        "school_cell_uuid": "54129ca14dfa46acb37258649dc4fbf0",
        "id": "-44xoa0hF5pa",
        "outputId": "6c33f6e4-3593-4e07-83c9-5d5c2462d6cf",
        "colab": {
          "base_uri": "https://localhost:8080/"
        }
      },
      "source": [
        "a[:, 1]  # 두번째 열 전체"
      ],
      "execution_count": 31,
      "outputs": [
        {
          "output_type": "execute_result",
          "data": {
            "text/plain": [
              "array([1, 5])"
            ]
          },
          "metadata": {
            "tags": []
          },
          "execution_count": 31
        }
      ]
    },
    {
      "cell_type": "code",
      "metadata": {
        "school_cell_uuid": "feb44b302247499eb76a58b904231483",
        "id": "ltUYrj_LF5pa",
        "outputId": "2d3c9fd0-3518-43c3-ccb5-dc699c331182",
        "colab": {
          "base_uri": "https://localhost:8080/"
        }
      },
      "source": [
        "a[1, 1:]  # 두번째 행의 두번째 열부터 끝열까지"
      ],
      "execution_count": 32,
      "outputs": [
        {
          "output_type": "execute_result",
          "data": {
            "text/plain": [
              "array([5, 6, 7])"
            ]
          },
          "metadata": {
            "tags": []
          },
          "execution_count": 32
        }
      ]
    },
    {
      "cell_type": "code",
      "metadata": {
        "school_cell_uuid": "feb44b302247499eb76a58b904231483",
        "id": "-RdbT6_3F5pb",
        "outputId": "7c5e0c0e-d9b5-43e7-e90c-03fd44d48c57",
        "colab": {
          "base_uri": "https://localhost:8080/"
        }
      },
      "source": [
        "a[:2, :2]"
      ],
      "execution_count": 33,
      "outputs": [
        {
          "output_type": "execute_result",
          "data": {
            "text/plain": [
              "array([[0, 1],\n",
              "       [4, 5]])"
            ]
          },
          "metadata": {
            "tags": []
          },
          "execution_count": 33
        }
      ]
    },
    {
      "cell_type": "markdown",
      "metadata": {
        "bootstrap": {
          "panel": {
            "class": "panel-default"
          }
        },
        "school_cell_uuid": "bfbc3bb02fa04461bffff66bf2d96fb8",
        "id": "g__YD7vrF5pb"
      },
      "source": [
        "**<스스로> 연습 문제 2**\n",
        "````{admonition} 연습 문제 2\n",
        "\n",
        "다음 행렬과 같은 행렬이 있다.\n",
        "\n",
        "```\n",
        "m = np.array([[ 0,  1,  2,  3,  4],\n",
        "            [ 5,  6,  7,  8,  9],\n",
        "            [10, 11, 12, 13, 14]])\n",
        "```\n",
        "\n",
        "1. 이 행렬에서 값 7 을 인덱싱한다.\n",
        "2. 이 행렬에서 값 14 을 인덱싱한다.\n",
        "3. 이 행렬에서 배열 [6, 7] 을 슬라이싱한다.\n",
        "4. 이 행렬에서 배열 [7, 12] 을 슬라이싱한다.\n",
        "5. 이 행렬에서 배열 [[3, 4], [8, 9]] 을 슬라이싱한다.\n",
        "````"
      ]
    },
    {
      "cell_type": "code",
      "metadata": {
        "id": "3isxQxvMQ_Jx",
        "outputId": "d5fa75ab-c927-4d7e-93cb-96a07e2ced3a",
        "colab": {
          "base_uri": "https://localhost:8080/"
        }
      },
      "source": [
        "m = np.array([[ 0,  1,  2,  3,  4],\r\n",
        "            [ 5,  6,  7,  8,  9],\r\n",
        "            [10, 11, 12, 13, 14]])\r\n",
        "m[1,2]"
      ],
      "execution_count": 44,
      "outputs": [
        {
          "output_type": "execute_result",
          "data": {
            "text/plain": [
              "7"
            ]
          },
          "metadata": {
            "tags": []
          },
          "execution_count": 44
        }
      ]
    },
    {
      "cell_type": "code",
      "metadata": {
        "id": "4eguHazIRMjo",
        "outputId": "fd580d10-9e98-4ea4-9ce9-d270908b2e76",
        "colab": {
          "base_uri": "https://localhost:8080/"
        }
      },
      "source": [
        "m[-1,-1]"
      ],
      "execution_count": 45,
      "outputs": [
        {
          "output_type": "execute_result",
          "data": {
            "text/plain": [
              "14"
            ]
          },
          "metadata": {
            "tags": []
          },
          "execution_count": 45
        }
      ]
    },
    {
      "cell_type": "code",
      "metadata": {
        "id": "ETbCb1K1RVhc",
        "outputId": "8a47f5e9-0045-448d-f46c-886d7061f47d",
        "colab": {
          "base_uri": "https://localhost:8080/"
        }
      },
      "source": [
        "m[1,1:3]"
      ],
      "execution_count": 46,
      "outputs": [
        {
          "output_type": "execute_result",
          "data": {
            "text/plain": [
              "array([6, 7])"
            ]
          },
          "metadata": {
            "tags": []
          },
          "execution_count": 46
        }
      ]
    },
    {
      "cell_type": "code",
      "metadata": {
        "id": "wM5wzDBZRYUD",
        "outputId": "29b0f30b-7a99-466d-be56-269499032ab5",
        "colab": {
          "base_uri": "https://localhost:8080/"
        }
      },
      "source": [
        "m[1:3,2]"
      ],
      "execution_count": 47,
      "outputs": [
        {
          "output_type": "execute_result",
          "data": {
            "text/plain": [
              "array([ 7, 12])"
            ]
          },
          "metadata": {
            "tags": []
          },
          "execution_count": 47
        }
      ]
    },
    {
      "cell_type": "code",
      "metadata": {
        "id": "aMeyy14vRbs-",
        "outputId": "ed3e41e9-9b4a-44da-8ad4-fb3c6250fb8f",
        "colab": {
          "base_uri": "https://localhost:8080/"
        }
      },
      "source": [
        "m[:2,3:]"
      ],
      "execution_count": 48,
      "outputs": [
        {
          "output_type": "execute_result",
          "data": {
            "text/plain": [
              "array([[3, 4],\n",
              "       [8, 9]])"
            ]
          },
          "metadata": {
            "tags": []
          },
          "execution_count": 48
        }
      ]
    },
    {
      "cell_type": "markdown",
      "metadata": {
        "school_cell_uuid": "2b04625edebb49ce8af7c00153172289",
        "id": "ncwVXcCGF5ph"
      },
      "source": [
        "## 배열 인덱싱"
      ]
    },
    {
      "cell_type": "markdown",
      "metadata": {
        "id": "aLrz9PTrF5pi"
      },
      "source": [
        "```{margin}\n",
        "배열 인덱싱(array indexing)\n",
        "```"
      ]
    },
    {
      "cell_type": "markdown",
      "metadata": {
        "school_cell_uuid": "cc146df0c9264066b015e5de670df9ef",
        "id": "F19ZINmKF5pi"
      },
      "source": [
        "넘파이 배열 객체의 또다른 강력한 기능은 팬시 인덱싱(fancy indexing)이라고도 부르는 배열 인덱싱(array indexing) 방법이다. 인덱싱이라는 이름이 붙었지만 사실은 데이터베이스의 질의(Query) 기능을 수행한다. 배열 인덱싱에서는 대괄호(Bracket, [])안의 인덱스 정보로 숫자나 슬라이스가 아니라 위치 정보를 나타내는 또 다른 `ndarray` 배열을 받을 수 있다. 여기에서는 이 배열을 편의상 인덱스 배열이라고 부르겠다. 배열 인덱싱의 방식에은 불리언(Boolean) 배열 방식과 정수 배열 방식 두가지가 있다."
      ]
    },
    {
      "cell_type": "markdown",
      "metadata": {
        "school_cell_uuid": "1c77e028d6464214bba1143b460c42a3",
        "id": "PJ_csmAOF5pj"
      },
      "source": [
        "먼저 불리안 배열 인덱싱 방식은 인덱스 배열의 원소가 True, False 두 값으로만 구성되며 인덱스 배열의 크기가 원래 ndarray 객체의 크기와 같아야 한다.\n",
        "\n",
        "예를 들어 다음과 같은 1차원 `ndarray`에서 짝수인 원소만 골라내려면 짝수인 원소에 대응하는 인덱스 값이 True이고 홀수인 원소에 대응하는 인덱스 값이 False인 인덱스 배열을 넣으면 된다."
      ]
    },
    {
      "cell_type": "code",
      "metadata": {
        "school_cell_uuid": "229c36ab3d0243e1b35039a3eb61843b",
        "id": "5xG7agZMF5pj",
        "outputId": "21087e7d-5a22-4aa0-f008-a4a796b17f55",
        "colab": {
          "base_uri": "https://localhost:8080/"
        }
      },
      "source": [
        "a = np.array([0, 1, 2, 3, 4, 5, 6, 7, 8, 9])\n",
        "idx = np.array([True, False, True, False, True,\n",
        "               False, True, False, True, False])\n",
        "a[idx]"
      ],
      "execution_count": 34,
      "outputs": [
        {
          "output_type": "execute_result",
          "data": {
            "text/plain": [
              "array([0, 2, 4, 6, 8])"
            ]
          },
          "metadata": {
            "tags": []
          },
          "execution_count": 34
        }
      ]
    },
    {
      "cell_type": "markdown",
      "metadata": {
        "school_cell_uuid": "f8e440768c02451fae3c4c1b82054379",
        "id": "zXiT3J7XF5pk"
      },
      "source": [
        "조건문 연산을 사용하면 다음과 같이 간단히 쓸 수 있다."
      ]
    },
    {
      "cell_type": "code",
      "metadata": {
        "school_cell_uuid": "24e11eda2d6c4f1c9322c1d99270b110",
        "id": "pUPzjut6F5pl",
        "outputId": "a0db7f48-39cb-4ddf-fc9b-5581b4c6de4b",
        "colab": {
          "base_uri": "https://localhost:8080/"
        }
      },
      "source": [
        "a % 2"
      ],
      "execution_count": 35,
      "outputs": [
        {
          "output_type": "execute_result",
          "data": {
            "text/plain": [
              "array([0, 1, 0, 1, 0, 1, 0, 1, 0, 1])"
            ]
          },
          "metadata": {
            "tags": []
          },
          "execution_count": 35
        }
      ]
    },
    {
      "cell_type": "code",
      "metadata": {
        "school_cell_uuid": "24e11eda2d6c4f1c9322c1d99270b110",
        "id": "hMTJnQIuF5pn",
        "outputId": "c6798b99-55ba-4ff7-ce04-b73d6a66b8c0",
        "colab": {
          "base_uri": "https://localhost:8080/"
        }
      },
      "source": [
        "a % 2 == 0"
      ],
      "execution_count": 36,
      "outputs": [
        {
          "output_type": "execute_result",
          "data": {
            "text/plain": [
              "array([ True, False,  True, False,  True, False,  True, False,  True,\n",
              "       False])"
            ]
          },
          "metadata": {
            "tags": []
          },
          "execution_count": 36
        }
      ]
    },
    {
      "cell_type": "code",
      "metadata": {
        "school_cell_uuid": "24e11eda2d6c4f1c9322c1d99270b110",
        "id": "pklJiLwHF5po",
        "outputId": "1b5eae7c-7cde-4b3f-b101-c8002962bf9e",
        "colab": {
          "base_uri": "https://localhost:8080/"
        }
      },
      "source": [
        "a[a % 2 == 0]"
      ],
      "execution_count": 37,
      "outputs": [
        {
          "output_type": "execute_result",
          "data": {
            "text/plain": [
              "array([0, 2, 4, 6, 8])"
            ]
          },
          "metadata": {
            "tags": []
          },
          "execution_count": 37
        }
      ]
    },
    {
      "cell_type": "markdown",
      "metadata": {
        "school_cell_uuid": "8dddb10b268d4959bd377704e5cc0c73",
        "id": "opulHGerF5po"
      },
      "source": [
        "정수 배열 인덱싱에서는 인덱스 배열의 원소 각각이 원래 `ndarray` 객체 원소 하나를 가리키는 인덱스 정수이여야 한다.\n",
        "예를 들어 1차원 배열에서 홀수번째 원소만 골라내는 것은 다음과 같다"
      ]
    },
    {
      "cell_type": "code",
      "metadata": {
        "school_cell_uuid": "d3450c62bcf346838f5084b261bdd4a4",
        "id": "ix5JF0oEF5pp",
        "outputId": "543994e6-fde8-4115-a239-9a9d9825ad7f",
        "colab": {
          "base_uri": "https://localhost:8080/"
        }
      },
      "source": [
        "a = np.array([11, 22, 33, 44, 55, 66, 77, 88, 99])\n",
        "idx = np.array([0, 2, 4, 6, 8])\n",
        "a[idx]"
      ],
      "execution_count": 38,
      "outputs": [
        {
          "output_type": "execute_result",
          "data": {
            "text/plain": [
              "array([11, 33, 55, 77, 99])"
            ]
          },
          "metadata": {
            "tags": []
          },
          "execution_count": 38
        }
      ]
    },
    {
      "cell_type": "markdown",
      "metadata": {
        "school_cell_uuid": "6639a282bf6f4fa5b0db092af7705abe",
        "id": "0FmidE2mF5pq"
      },
      "source": [
        "이 때는 배열 인덱스의 크기가 원래의 배열 크기와 달라도 상관없다. 같은 원소를 반복해서 가리키는 경우에는 배열 인덱스가 원래의 배열보다 더 커지기도 한다."
      ]
    },
    {
      "cell_type": "code",
      "metadata": {
        "school_cell_uuid": "e0d44d88947b445a829eff3a626d0f41",
        "id": "91ySSL3uF5pq",
        "outputId": "0b608f81-a247-469f-ea6b-12ad149cbcff",
        "colab": {
          "base_uri": "https://localhost:8080/"
        }
      },
      "source": [
        "a = np.array([11, 22, 33, 44, 55, 66, 77, 88, 99])\n",
        "idx = np.array([0, 0, 0, 0, 0, 0, 1, 1, 1, 1, 1, 2, 2, 2, 2, 2])\n",
        "a[idx]"
      ],
      "execution_count": 39,
      "outputs": [
        {
          "output_type": "execute_result",
          "data": {
            "text/plain": [
              "array([11, 11, 11, 11, 11, 11, 22, 22, 22, 22, 22, 33, 33, 33, 33, 33])"
            ]
          },
          "metadata": {
            "tags": []
          },
          "execution_count": 39
        }
      ]
    },
    {
      "cell_type": "markdown",
      "metadata": {
        "school_cell_uuid": "5eac3dc885ae43a29c1e02aa32bc5f55",
        "id": "ahUTzkdUF5ps"
      },
      "source": [
        "배열 인덱싱은 다차원 배열의 각 차원에 대해서도 할 수 있다."
      ]
    },
    {
      "cell_type": "code",
      "metadata": {
        "school_cell_uuid": "7150f017d94848af886bb9783aa0337b",
        "id": "Arq2s4JSF5ps",
        "outputId": "4d11c659-9c7c-45fa-9114-5469242e8f00",
        "colab": {
          "base_uri": "https://localhost:8080/"
        }
      },
      "source": [
        "a = np.array([[1, 2, 3, 4], [5, 6, 7, 8], [9, 10, 11, 12]])\n",
        "a"
      ],
      "execution_count": 40,
      "outputs": [
        {
          "output_type": "execute_result",
          "data": {
            "text/plain": [
              "array([[ 1,  2,  3,  4],\n",
              "       [ 5,  6,  7,  8],\n",
              "       [ 9, 10, 11, 12]])"
            ]
          },
          "metadata": {
            "tags": []
          },
          "execution_count": 40
        }
      ]
    },
    {
      "cell_type": "code",
      "metadata": {
        "school_cell_uuid": "2f482ef754064b7399bc7128276bdb25",
        "id": "cXF1frUrF5pt",
        "outputId": "e3ac3b72-ad47-4a74-e3cb-4c0eaede9fb8",
        "colab": {
          "base_uri": "https://localhost:8080/"
        }
      },
      "source": [
        "a[:, [True, False, False, True]]"
      ],
      "execution_count": 41,
      "outputs": [
        {
          "output_type": "execute_result",
          "data": {
            "text/plain": [
              "array([[ 1,  4],\n",
              "       [ 5,  8],\n",
              "       [ 9, 12]])"
            ]
          },
          "metadata": {
            "tags": []
          },
          "execution_count": 41
        }
      ]
    },
    {
      "cell_type": "code",
      "metadata": {
        "school_cell_uuid": "adf49263d3be41d389ef9a4a475d65ad",
        "id": "3JzKcdWQF5pt",
        "outputId": "70372cf7-6cbf-4ead-fe50-90df692eff41",
        "colab": {
          "base_uri": "https://localhost:8080/"
        }
      },
      "source": [
        "a[[2, 0, 1], :]"
      ],
      "execution_count": 42,
      "outputs": [
        {
          "output_type": "execute_result",
          "data": {
            "text/plain": [
              "array([[ 9, 10, 11, 12],\n",
              "       [ 1,  2,  3,  4],\n",
              "       [ 5,  6,  7,  8]])"
            ]
          },
          "metadata": {
            "tags": []
          },
          "execution_count": 42
        }
      ]
    },
    {
      "cell_type": "markdown",
      "metadata": {
        "bootstrap": {
          "panel": {
            "class": "panel-default"
          }
        },
        "school_cell_uuid": "bfbc3bb02fa04461bffff66bf2d96fb8",
        "id": "Gv3cxM4QF5pu"
      },
      "source": [
        "**<스스로> 연습 문제 3**\n",
        "\n",
        "````{admonition} 연습 문제 3\n",
        "\n",
        "다음 행렬과 같은 배열이 있다.\n",
        "\n",
        "```\n",
        "x = np.array([1, 2, 3, 4, 5, 6, 7, 8, 9, 10,\n",
        "             11, 12, 13, 14, 15, 16, 17, 18, 19, 20])\n",
        "```\n",
        "\n",
        "1. 이 배열에서 3의 배수를 찾아라.\n",
        "2. 이 배열에서 4로 나누면 1이 남는 수를 찾아라.\n",
        "3. 이 배열에서 3으로 나누면 나누어지고 4로 나누면 1이 남는 수를 찾아라.\n",
        "````"
      ]
    },
    {
      "cell_type": "code",
      "metadata": {
        "id": "mJ0oxLw-RgY1"
      },
      "source": [
        "x = np.array([1, 2, 3, 4, 5, 6, 7, 8, 9, 10,\r\n",
        "             11, 12, 13, 14, 15, 16, 17, 18, 19, 20])"
      ],
      "execution_count": 49,
      "outputs": []
    },
    {
      "cell_type": "code",
      "metadata": {
        "id": "u51Dn-cRRlln",
        "outputId": "e23ec9ce-acc3-4eb4-f6fe-61cc40ef6dd0",
        "colab": {
          "base_uri": "https://localhost:8080/"
        }
      },
      "source": [
        "x[x%3==0]"
      ],
      "execution_count": 50,
      "outputs": [
        {
          "output_type": "execute_result",
          "data": {
            "text/plain": [
              "array([ 3,  6,  9, 12, 15, 18])"
            ]
          },
          "metadata": {
            "tags": []
          },
          "execution_count": 50
        }
      ]
    },
    {
      "cell_type": "code",
      "metadata": {
        "id": "0Onthq_6Rs74",
        "outputId": "ab6eb566-acba-493b-81ca-26727d17c745",
        "colab": {
          "base_uri": "https://localhost:8080/"
        }
      },
      "source": [
        "x[x%4==1]"
      ],
      "execution_count": 51,
      "outputs": [
        {
          "output_type": "execute_result",
          "data": {
            "text/plain": [
              "array([ 1,  5,  9, 13, 17])"
            ]
          },
          "metadata": {
            "tags": []
          },
          "execution_count": 51
        }
      ]
    },
    {
      "cell_type": "code",
      "metadata": {
        "id": "JQVFjJg2Ry9-",
        "outputId": "1fbd1aa3-6d0c-4457-a88d-c5f2fe6d32ef",
        "colab": {
          "base_uri": "https://localhost:8080/"
        }
      },
      "source": [
        "x[(x%3==0)&(x%4==1)]"
      ],
      "execution_count": 52,
      "outputs": [
        {
          "output_type": "execute_result",
          "data": {
            "text/plain": [
              "array([9])"
            ]
          },
          "metadata": {
            "tags": []
          },
          "execution_count": 52
        }
      ]
    }
  ]
}