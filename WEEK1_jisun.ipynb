{
  "nbformat": 4,
  "nbformat_minor": 0,
  "metadata": {
    "colab": {
      "name": "210214.ipynb",
      "provenance": [],
      "toc_visible": true,
      "include_colab_link": true
    },
    "kernelspec": {
      "name": "python3",
      "display_name": "Python 3"
    }
  },
  "cells": [
    {
      "cell_type": "markdown",
      "metadata": {
        "id": "view-in-github",
        "colab_type": "text"
      },
      "source": [
        "<a href=\"https://colab.research.google.com/github/SWeat-python-weekend-study/jisun_So/blob/main/WEEK1_jisun.ipynb\" target=\"_parent\"><img src=\"https://colab.research.google.com/assets/colab-badge.svg\" alt=\"Open In Colab\"/></a>"
      ]
    },
    {
      "cell_type": "markdown",
      "metadata": {
        "id": "Kd5NW6jInvAB"
      },
      "source": [
        "**0. Colab**\r\n"
      ]
    },
    {
      "cell_type": "markdown",
      "metadata": {
        "id": "92YNQ4ikoN7o"
      },
      "source": [
        "- <스스로> 마크다운 실습\r\n",
        "\r\n",
        "\r\n",
        "# SWeat 파이썬 고급강의\r\n",
        "## 첫번째 시간\r\n",
        "- 마크다운 실습\r\n",
        "+ 마크다운 실습\r\n",
        "* 마크다운 실습\r\n",
        "1. 마크다운 실습  \r\n",
        "___  \r\n",
        "## 두번째 시간\r\n",
        "_무엇을 배워볼까요_  \r\n",
        "__무엇__ _을배워볼까요_\r\n",
        "***\r\n",
        "#인용사이트\r\n",
        ">https://wikidocs.net/744\r\n",
        "---\r\n",
        "[이곳을 인용함](https://wikidocs.net/744)\r\n",
        "\r\n",
        "---\r\n",
        "***\r\n",
        "___\r\n"
      ]
    },
    {
      "cell_type": "code",
      "metadata": {
        "id": "J4PITutpovRx"
      },
      "source": [
        "!pwd"
      ],
      "execution_count": null,
      "outputs": []
    },
    {
      "cell_type": "code",
      "metadata": {
        "id": "VVwWj__A-02I"
      },
      "source": [
        "!ls"
      ],
      "execution_count": null,
      "outputs": []
    },
    {
      "cell_type": "markdown",
      "metadata": {
        "id": "40VuYJCsCgH8"
      },
      "source": [
        "**1. iterator**\r\n",
        "- iterable: 반복 가능한 객체  \r\n",
        "ex) 문자열, 리스트, 딕셔너리, 집합  \r\n",
        " 요소가 여러개 들어있고, 한 번에 하나씩 꺼낼 수 있는 객체  \r\n",
        "  \r\n",
        "- \\_\\_iter__ 메서드가 해당 객체에 있는지 확인\r\n",
        "\r\n",
        "\r\n"
      ]
    },
    {
      "cell_type": "code",
      "metadata": {
        "id": "xL0Wy8nwCkaB",
        "colab": {
          "base_uri": "https://localhost:8080/"
        },
        "outputId": "0c8821dc-e2db-42ad-f630-16a2ca0762ec"
      },
      "source": [
        "dir([1,2,3])"
      ],
      "execution_count": 18,
      "outputs": [
        {
          "output_type": "execute_result",
          "data": {
            "text/plain": [
              "['__add__',\n",
              " '__class__',\n",
              " '__contains__',\n",
              " '__delattr__',\n",
              " '__delitem__',\n",
              " '__dir__',\n",
              " '__doc__',\n",
              " '__eq__',\n",
              " '__format__',\n",
              " '__ge__',\n",
              " '__getattribute__',\n",
              " '__getitem__',\n",
              " '__gt__',\n",
              " '__hash__',\n",
              " '__iadd__',\n",
              " '__imul__',\n",
              " '__init__',\n",
              " '__init_subclass__',\n",
              " '__iter__',\n",
              " '__le__',\n",
              " '__len__',\n",
              " '__lt__',\n",
              " '__mul__',\n",
              " '__ne__',\n",
              " '__new__',\n",
              " '__reduce__',\n",
              " '__reduce_ex__',\n",
              " '__repr__',\n",
              " '__reversed__',\n",
              " '__rmul__',\n",
              " '__setattr__',\n",
              " '__setitem__',\n",
              " '__sizeof__',\n",
              " '__str__',\n",
              " '__subclasshook__',\n",
              " 'append',\n",
              " 'clear',\n",
              " 'copy',\n",
              " 'count',\n",
              " 'extend',\n",
              " 'index',\n",
              " 'insert',\n",
              " 'pop',\n",
              " 'remove',\n",
              " 'reverse',\n",
              " 'sort']"
            ]
          },
          "metadata": {
            "tags": []
          },
          "execution_count": 18
        }
      ]
    },
    {
      "cell_type": "code",
      "metadata": {
        "id": "Seq22FxZED_y",
        "colab": {
          "base_uri": "https://localhost:8080/"
        },
        "outputId": "3e69911b-f132-45a1-92a7-f29b6ebcedc8"
      },
      "source": [
        "[1, 2, 3].__iter__()"
      ],
      "execution_count": 19,
      "outputs": [
        {
          "output_type": "execute_result",
          "data": {
            "text/plain": [
              "<list_iterator at 0x7f6a5e320b70>"
            ]
          },
          "metadata": {
            "tags": []
          },
          "execution_count": 19
        }
      ]
    },
    {
      "cell_type": "markdown",
      "metadata": {
        "id": "03bEx3WeEkFo"
      },
      "source": [
        "\r\n",
        "\r\n",
        "---\r\n",
        "\r\n"
      ]
    },
    {
      "cell_type": "code",
      "metadata": {
        "id": "yHhgKdnaEPVb"
      },
      "source": [
        "it = [1, 2, 3].__iter__() #리스트의 이터레이터를 it 변수에 저장 후 __next__ 메서드 호출"
      ],
      "execution_count": 20,
      "outputs": []
    },
    {
      "cell_type": "code",
      "metadata": {
        "id": "NhJviSOBEW1F",
        "colab": {
          "base_uri": "https://localhost:8080/"
        },
        "outputId": "86f3beec-0b95-4639-b8c2-a44a92c3ce0b"
      },
      "source": [
        "it.__next__()"
      ],
      "execution_count": 21,
      "outputs": [
        {
          "output_type": "execute_result",
          "data": {
            "text/plain": [
              "1"
            ]
          },
          "metadata": {
            "tags": []
          },
          "execution_count": 21
        }
      ]
    },
    {
      "cell_type": "code",
      "metadata": {
        "id": "wpCgno5REYTb",
        "colab": {
          "base_uri": "https://localhost:8080/"
        },
        "outputId": "834abf13-91a6-440e-82b8-a9a7a1600765"
      },
      "source": [
        "it.__next__()"
      ],
      "execution_count": 22,
      "outputs": [
        {
          "output_type": "execute_result",
          "data": {
            "text/plain": [
              "2"
            ]
          },
          "metadata": {
            "tags": []
          },
          "execution_count": 22
        }
      ]
    },
    {
      "cell_type": "code",
      "metadata": {
        "id": "cIYp0RHSEZW_",
        "colab": {
          "base_uri": "https://localhost:8080/"
        },
        "outputId": "e2eedc6e-a74e-4025-cab0-64f02aea3bc1"
      },
      "source": [
        "it.__next__()"
      ],
      "execution_count": 23,
      "outputs": [
        {
          "output_type": "execute_result",
          "data": {
            "text/plain": [
              "3"
            ]
          },
          "metadata": {
            "tags": []
          },
          "execution_count": 23
        }
      ]
    },
    {
      "cell_type": "code",
      "metadata": {
        "id": "H0WUnqJLEajN",
        "colab": {
          "base_uri": "https://localhost:8080/",
          "height": 176
        },
        "outputId": "945962e7-1c56-4510-8d8b-3117dd85ab9c"
      },
      "source": [
        "it.__next__() #더 이상 꺼낼 요소가 없으므로 StopIteration Exception 발생"
      ],
      "execution_count": 24,
      "outputs": [
        {
          "output_type": "error",
          "ename": "StopIteration",
          "evalue": "ignored",
          "traceback": [
            "\u001b[0;31m---------------------------------------------------------------------------\u001b[0m",
            "\u001b[0;31mStopIteration\u001b[0m                             Traceback (most recent call last)",
            "\u001b[0;32m<ipython-input-24-d7439b90b290>\u001b[0m in \u001b[0;36m<module>\u001b[0;34m()\u001b[0m\n\u001b[0;32m----> 1\u001b[0;31m \u001b[0mit\u001b[0m\u001b[0;34m.\u001b[0m\u001b[0m__next__\u001b[0m\u001b[0;34m(\u001b[0m\u001b[0;34m)\u001b[0m \u001b[0;31m#더 이상 꺼낼 요소가 없으므로 StopIteration Exception 발생\u001b[0m\u001b[0;34m\u001b[0m\u001b[0;34m\u001b[0m\u001b[0m\n\u001b[0m",
            "\u001b[0;31mStopIteration\u001b[0m: "
          ]
        }
      ]
    },
    {
      "cell_type": "markdown",
      "metadata": {
        "id": "ulPiDxY8EnA2"
      },
      "source": [
        "\r\n",
        "\r\n",
        "---\r\n",
        "\r\n"
      ]
    },
    {
      "cell_type": "code",
      "metadata": {
        "id": "4qgLNDMKEn1M",
        "colab": {
          "base_uri": "https://localhost:8080/"
        },
        "outputId": "3a037709-dfa1-458d-d6fc-61ac165bc9f2"
      },
      "source": [
        "'Hello, world!'.__iter__()"
      ],
      "execution_count": 26,
      "outputs": [
        {
          "output_type": "execute_result",
          "data": {
            "text/plain": [
              "<str_iterator at 0x7f6a5e3c0e80>"
            ]
          },
          "metadata": {
            "tags": []
          },
          "execution_count": 26
        }
      ]
    },
    {
      "cell_type": "code",
      "metadata": {
        "id": "AMwFuE3MExQu",
        "colab": {
          "base_uri": "https://localhost:8080/"
        },
        "outputId": "b69e4954-7d5a-4e51-80c5-6a6e3a026c0d"
      },
      "source": [
        "{'a': 1, 'b': 2}.__iter__()"
      ],
      "execution_count": 25,
      "outputs": [
        {
          "output_type": "execute_result",
          "data": {
            "text/plain": [
              "<dict_keyiterator at 0x7f6a5e393818>"
            ]
          },
          "metadata": {
            "tags": []
          },
          "execution_count": 25
        }
      ]
    },
    {
      "cell_type": "code",
      "metadata": {
        "id": "VAT2FFb6Ezqm",
        "colab": {
          "base_uri": "https://localhost:8080/"
        },
        "outputId": "878b5401-495c-403a-f4cb-547e3b01f73e"
      },
      "source": [
        "{1, 2, 3}.__iter__()"
      ],
      "execution_count": 27,
      "outputs": [
        {
          "output_type": "execute_result",
          "data": {
            "text/plain": [
              "<set_iterator at 0x7f6a5e32f360>"
            ]
          },
          "metadata": {
            "tags": []
          },
          "execution_count": 27
        }
      ]
    },
    {
      "cell_type": "markdown",
      "metadata": {
        "id": "6y-FsYT1E2ps"
      },
      "source": [
        "\r\n",
        "\r\n",
        "---\r\n",
        "\r\n"
      ]
    },
    {
      "cell_type": "code",
      "metadata": {
        "id": "ZivClKH8E38V"
      },
      "source": [
        "it = range(3).__iter__()"
      ],
      "execution_count": 28,
      "outputs": []
    },
    {
      "cell_type": "code",
      "metadata": {
        "id": "O08jvvNZE64-",
        "colab": {
          "base_uri": "https://localhost:8080/"
        },
        "outputId": "2f44cc48-f1ce-42c2-c0af-3eca2cde89f5"
      },
      "source": [
        "it.__next__()"
      ],
      "execution_count": 29,
      "outputs": [
        {
          "output_type": "execute_result",
          "data": {
            "text/plain": [
              "0"
            ]
          },
          "metadata": {
            "tags": []
          },
          "execution_count": 29
        }
      ]
    },
    {
      "cell_type": "code",
      "metadata": {
        "id": "VAcdtOfAE7QU",
        "colab": {
          "base_uri": "https://localhost:8080/"
        },
        "outputId": "76cb01d4-24b8-422a-cca1-95e44e9dc395"
      },
      "source": [
        "it.__next__()"
      ],
      "execution_count": 30,
      "outputs": [
        {
          "output_type": "execute_result",
          "data": {
            "text/plain": [
              "1"
            ]
          },
          "metadata": {
            "tags": []
          },
          "execution_count": 30
        }
      ]
    },
    {
      "cell_type": "code",
      "metadata": {
        "id": "NRNd2dluE7k0",
        "colab": {
          "base_uri": "https://localhost:8080/"
        },
        "outputId": "30ba9f10-a529-4d44-ad5b-376c052c26d8"
      },
      "source": [
        "it.__next__()"
      ],
      "execution_count": 31,
      "outputs": [
        {
          "output_type": "execute_result",
          "data": {
            "text/plain": [
              "2"
            ]
          },
          "metadata": {
            "tags": []
          },
          "execution_count": 31
        }
      ]
    },
    {
      "cell_type": "code",
      "metadata": {
        "id": "7e1LVArOE9fK",
        "colab": {
          "base_uri": "https://localhost:8080/",
          "height": 176
        },
        "outputId": "8e4c028e-c769-4d84-eea6-420c6ad78a55"
      },
      "source": [
        "it.__next__()"
      ],
      "execution_count": 32,
      "outputs": [
        {
          "output_type": "error",
          "ename": "StopIteration",
          "evalue": "ignored",
          "traceback": [
            "\u001b[0;31m---------------------------------------------------------------------------\u001b[0m",
            "\u001b[0;31mStopIteration\u001b[0m                             Traceback (most recent call last)",
            "\u001b[0;32m<ipython-input-32-74e64ed6c80d>\u001b[0m in \u001b[0;36m<module>\u001b[0;34m()\u001b[0m\n\u001b[0;32m----> 1\u001b[0;31m \u001b[0mit\u001b[0m\u001b[0;34m.\u001b[0m\u001b[0m__next__\u001b[0m\u001b[0;34m(\u001b[0m\u001b[0;34m)\u001b[0m\u001b[0;34m\u001b[0m\u001b[0;34m\u001b[0m\u001b[0m\n\u001b[0m",
            "\u001b[0;31mStopIteration\u001b[0m: "
          ]
        }
      ]
    },
    {
      "cell_type": "markdown",
      "metadata": {
        "id": "F9GDUIObZz2R"
      },
      "source": [
        "이터러블 객체에 iter()함수를 사용하면 이터레이터가 만들어짐."
      ]
    },
    {
      "cell_type": "markdown",
      "metadata": {
        "id": "obudCleDGA29"
      },
      "source": [
        "**2. Generator**\r\n",
        "\r\n",
        "- generator: iterator를 생성해주는 함수  \r\n",
        "generator는 함수 안에서 yield라는 키워드만 사용하면 됨\r\n",
        "- iterator보다 간단"
      ]
    },
    {
      "cell_type": "code",
      "metadata": {
        "id": "avYPvcnOGjJI",
        "colab": {
          "base_uri": "https://localhost:8080/"
        },
        "outputId": "7e9caa48-e243-4df6-e050-308eabbd2a89"
      },
      "source": [
        "def number_generator():\r\n",
        "    yield 0\r\n",
        "    yield 1\r\n",
        "    yield 2\r\n",
        " \r\n",
        "for i in number_generator():\r\n",
        "    print(i)"
      ],
      "execution_count": 33,
      "outputs": [
        {
          "output_type": "stream",
          "text": [
            "0\n",
            "1\n",
            "2\n"
          ],
          "name": "stdout"
        }
      ]
    },
    {
      "cell_type": "code",
      "metadata": {
        "id": "PudO8DEdGnG4",
        "colab": {
          "base_uri": "https://localhost:8080/"
        },
        "outputId": "7caaf325-9b75-4a3b-da74-3d910920a220"
      },
      "source": [
        "def g ():\r\n",
        "  print('one')\r\n",
        "  yield 1 #첫번째 next 호출 시 여기까지 처리\r\n",
        "  print('two')\r\n",
        "  yield 2 #두번째 next 호출 시 여기까지 처리\r\n",
        "  print('three')\r\n",
        "  yield 3 #세번째 next 호출 시 여기까지 처리\r\n",
        "\r\n",
        "_ = g()\r\n",
        "next(_)\r\n",
        "next(_)\r\n",
        "next(_)"
      ],
      "execution_count": 34,
      "outputs": [
        {
          "output_type": "stream",
          "text": [
            "one\n",
            "two\n",
            "three\n"
          ],
          "name": "stdout"
        },
        {
          "output_type": "execute_result",
          "data": {
            "text/plain": [
              "3"
            ]
          },
          "metadata": {
            "tags": []
          },
          "execution_count": 34
        }
      ]
    },
    {
      "cell_type": "code",
      "metadata": {
        "id": "HSsicq3IHJBS",
        "colab": {
          "base_uri": "https://localhost:8080/"
        },
        "outputId": "f0440d48-b79b-4c1f-cce7-10ed8842bb76"
      },
      "source": [
        "#반복문 처리 시 활용\r\n",
        "def g():\r\n",
        "  A = [1,2,3,4,5]\r\n",
        "  for _ in A:\r\n",
        "    yield _\r\n",
        "\r\n",
        "for _ in g():\r\n",
        "  print( _ * 2)"
      ],
      "execution_count": 35,
      "outputs": [
        {
          "output_type": "stream",
          "text": [
            "2\n",
            "4\n",
            "6\n",
            "8\n",
            "10\n"
          ],
          "name": "stdout"
        }
      ]
    },
    {
      "cell_type": "markdown",
      "metadata": {
        "id": "gl32tx5GIbvg"
      },
      "source": [
        "\r\n",
        "\r\n",
        "---\r\n",
        "\r\n"
      ]
    },
    {
      "cell_type": "code",
      "metadata": {
        "id": "TaPj6IWIIcq8",
        "colab": {
          "base_uri": "https://localhost:8080/"
        },
        "outputId": "803382a5-dbaf-4553-de11-823b431db702"
      },
      "source": [
        "g = number_generator()\r\n",
        "g"
      ],
      "execution_count": 36,
      "outputs": [
        {
          "output_type": "execute_result",
          "data": {
            "text/plain": [
              "<generator object number_generator at 0x7f6a5e377e08>"
            ]
          },
          "metadata": {
            "tags": []
          },
          "execution_count": 36
        }
      ]
    },
    {
      "cell_type": "code",
      "metadata": {
        "id": "XQdD2eKMIgNU",
        "colab": {
          "base_uri": "https://localhost:8080/"
        },
        "outputId": "c170e9ab-9d28-4c1a-bb77-1a5c2041764d"
      },
      "source": [
        "g.__next__()"
      ],
      "execution_count": 39,
      "outputs": [
        {
          "output_type": "execute_result",
          "data": {
            "text/plain": [
              "2"
            ]
          },
          "metadata": {
            "tags": []
          },
          "execution_count": 39
        }
      ]
    },
    {
      "cell_type": "code",
      "metadata": {
        "id": "tzsFc0XKIhxv",
        "colab": {
          "base_uri": "https://localhost:8080/"
        },
        "outputId": "6a561067-6966-4cd4-afe0-d07a6c061fa4"
      },
      "source": [
        "g.__next__()"
      ],
      "execution_count": 37,
      "outputs": [
        {
          "output_type": "execute_result",
          "data": {
            "text/plain": [
              "0"
            ]
          },
          "metadata": {
            "tags": []
          },
          "execution_count": 37
        }
      ]
    },
    {
      "cell_type": "code",
      "metadata": {
        "id": "eiZndpQeIivH",
        "colab": {
          "base_uri": "https://localhost:8080/"
        },
        "outputId": "876ca380-b4f8-4eee-c3c6-f30ce0bb7d15"
      },
      "source": [
        "g.__next__()"
      ],
      "execution_count": 38,
      "outputs": [
        {
          "output_type": "execute_result",
          "data": {
            "text/plain": [
              "1"
            ]
          },
          "metadata": {
            "tags": []
          },
          "execution_count": 38
        }
      ]
    },
    {
      "cell_type": "code",
      "metadata": {
        "id": "ch5Par4dIlA5",
        "colab": {
          "base_uri": "https://localhost:8080/",
          "height": 176
        },
        "outputId": "a9379058-62e1-44a1-e5c0-022125dbace7"
      },
      "source": [
        "g.__next__()"
      ],
      "execution_count": 40,
      "outputs": [
        {
          "output_type": "error",
          "ename": "StopIteration",
          "evalue": "ignored",
          "traceback": [
            "\u001b[0;31m---------------------------------------------------------------------------\u001b[0m",
            "\u001b[0;31mStopIteration\u001b[0m                             Traceback (most recent call last)",
            "\u001b[0;32m<ipython-input-40-42e506b10868>\u001b[0m in \u001b[0;36m<module>\u001b[0;34m()\u001b[0m\n\u001b[0;32m----> 1\u001b[0;31m \u001b[0mg\u001b[0m\u001b[0;34m.\u001b[0m\u001b[0m__next__\u001b[0m\u001b[0;34m(\u001b[0m\u001b[0;34m)\u001b[0m\u001b[0;34m\u001b[0m\u001b[0;34m\u001b[0m\u001b[0m\n\u001b[0m",
            "\u001b[0;31mStopIteration\u001b[0m: "
          ]
        }
      ]
    },
    {
      "cell_type": "markdown",
      "metadata": {
        "id": "WO6d1hVqI1Pb"
      },
      "source": [
        "- yield를 사용하면 값을 함수 바깥으로 전달하면서 코드 실행을 함수 바깥에 양보"
      ]
    },
    {
      "cell_type": "markdown",
      "metadata": {
        "id": "X4rQZNx3JMVT"
      },
      "source": [
        "**3. 한 줄 조건문**"
      ]
    },
    {
      "cell_type": "code",
      "metadata": {
        "id": "ZV7-pjIZI7X7"
      },
      "source": [
        "def confirm(x):\r\n",
        "  return '1입니다' if x==1 else\\\r\n",
        "          '5입니다' if x==5 else\\\r\n",
        "          '1도 5도 아닙니다'"
      ],
      "execution_count": 41,
      "outputs": []
    },
    {
      "cell_type": "code",
      "metadata": {
        "id": "aqVlFIgBJ0cH",
        "colab": {
          "base_uri": "https://localhost:8080/",
          "height": 36
        },
        "outputId": "3a6a4ce0-c56a-4970-ecb0-b87331e1c75f"
      },
      "source": [
        "confirm(1)"
      ],
      "execution_count": 42,
      "outputs": [
        {
          "output_type": "execute_result",
          "data": {
            "application/vnd.google.colaboratory.intrinsic+json": {
              "type": "string"
            },
            "text/plain": [
              "'1입니다'"
            ]
          },
          "metadata": {
            "tags": []
          },
          "execution_count": 42
        }
      ]
    },
    {
      "cell_type": "code",
      "metadata": {
        "id": "8pB7VoWPJ3jo",
        "colab": {
          "base_uri": "https://localhost:8080/",
          "height": 36
        },
        "outputId": "db7118ba-9f81-4239-cc31-b0d3b283c719"
      },
      "source": [
        "confirm(3)"
      ],
      "execution_count": 43,
      "outputs": [
        {
          "output_type": "execute_result",
          "data": {
            "application/vnd.google.colaboratory.intrinsic+json": {
              "type": "string"
            },
            "text/plain": [
              "'1도 5도 아닙니다'"
            ]
          },
          "metadata": {
            "tags": []
          },
          "execution_count": 43
        }
      ]
    },
    {
      "cell_type": "code",
      "metadata": {
        "id": "5I-1xgCvJ47c"
      },
      "source": [
        "confirm(5)"
      ],
      "execution_count": null,
      "outputs": []
    },
    {
      "cell_type": "markdown",
      "metadata": {
        "id": "CJg7bMneKC8E"
      },
      "source": [
        "**4. 리스트**"
      ]
    },
    {
      "cell_type": "markdown",
      "metadata": {
        "id": "hMqA6hYnKI1W"
      },
      "source": [
        "- 리스트 기본  \r\n",
        "[ ] 대괄호 안에 쉽표, 구분자로 분리"
      ]
    },
    {
      "cell_type": "code",
      "metadata": {
        "id": "JAwtJBogKMU0"
      },
      "source": [
        "A = [1,2,3,4,5]"
      ],
      "execution_count": null,
      "outputs": []
    },
    {
      "cell_type": "markdown",
      "metadata": {
        "id": "jXseLfABKZqc"
      },
      "source": [
        "- 리스트는 추가하고 삭제 가능"
      ]
    },
    {
      "cell_type": "code",
      "metadata": {
        "id": "23ca_didKcLZ"
      },
      "source": [
        "A.append(6)\r\n",
        "A"
      ],
      "execution_count": null,
      "outputs": []
    },
    {
      "cell_type": "code",
      "metadata": {
        "id": "9sCAriE-KgVe"
      },
      "source": [
        "del(A[0])\r\n",
        "A"
      ],
      "execution_count": null,
      "outputs": []
    },
    {
      "cell_type": "markdown",
      "metadata": {
        "id": "ZoQYBAXoKpJG"
      },
      "source": [
        "- 리스트 슬라이싱"
      ]
    },
    {
      "cell_type": "code",
      "metadata": {
        "id": "ssraydeJKm1z"
      },
      "source": [
        "A = [1,2,3,4,5]\r\n",
        "A[:2]"
      ],
      "execution_count": null,
      "outputs": []
    },
    {
      "cell_type": "markdown",
      "metadata": {
        "id": "YZtNU67ZKzLf"
      },
      "source": [
        "**5. 리스트 표현식**"
      ]
    },
    {
      "cell_type": "code",
      "metadata": {
        "id": "9ztgdUrpK9Vk"
      },
      "source": [
        "A = list(range(10)) # [0,1,2,3,4,5,6,7,8,9] 할당"
      ],
      "execution_count": null,
      "outputs": []
    },
    {
      "cell_type": "code",
      "metadata": {
        "id": "uaMx5XI2LOZC"
      },
      "source": [
        "#파이썬에서 _ 문자를 변수명으로 사용 가능함 . 쓰고 버리는 의미 없는 임시변수 표현"
      ],
      "execution_count": null,
      "outputs": []
    },
    {
      "cell_type": "code",
      "metadata": {
        "id": "yS_TcZywLQAy"
      },
      "source": [
        "B = [_ for _ in A]\r\n",
        "# B = [x for x in A]\r\n",
        "B"
      ],
      "execution_count": null,
      "outputs": []
    },
    {
      "cell_type": "code",
      "metadata": {
        "id": "xsscCpR_Lqt3"
      },
      "source": [
        "C =[x for x in A if x > 5 ] # [6,7,8,9] 할당 = 5 보다 큰 값 할당 필터링 역할\r\n",
        "C"
      ],
      "execution_count": null,
      "outputs": []
    },
    {
      "cell_type": "markdown",
      "metadata": {
        "id": "IOS8Bg2nMMm7"
      },
      "source": [
        "\r\n",
        "\r\n",
        "---\r\n",
        "\r\n"
      ]
    },
    {
      "cell_type": "code",
      "metadata": {
        "id": "rcRJW5mNMHEL"
      },
      "source": [
        "D = [x for x in A if x > 5 and x % 2 == 0 ]\r\n",
        "D"
      ],
      "execution_count": null,
      "outputs": []
    },
    {
      "cell_type": "markdown",
      "metadata": {
        "id": "vq4NguC-MtdH"
      },
      "source": [
        "**6. 함수**"
      ]
    },
    {
      "cell_type": "code",
      "metadata": {
        "id": "U5_HCtF6MYxe"
      },
      "source": [
        "# F(n) = F(n-1) + F(n-2) 단, n > 2일 경우\r\n",
        "\r\n",
        "def F(n):\r\n",
        "  if n <= 2:\r\n",
        "    return 1\r\n",
        "  else:\r\n",
        "    return F(n-1) + F(n-2) # 재귀(recursive)"
      ],
      "execution_count": 44,
      "outputs": []
    },
    {
      "cell_type": "code",
      "metadata": {
        "id": "vdbxbtv9NBGa",
        "colab": {
          "base_uri": "https://localhost:8080/"
        },
        "outputId": "cd9166e1-7395-418c-8265-3969b113aa0a"
      },
      "source": [
        "R = [F(n) for n in range(1, 10)]\r\n",
        "print(R) #F(1)에서 F(9)까지 구하기"
      ],
      "execution_count": 45,
      "outputs": [
        {
          "output_type": "stream",
          "text": [
            "[1, 1, 2, 3, 5, 8, 13, 21, 34]\n"
          ],
          "name": "stdout"
        }
      ]
    },
    {
      "cell_type": "markdown",
      "metadata": {
        "id": "Jh2el3OANd8Z"
      },
      "source": [
        "**7. 람다(lambda) 함수**\r\n",
        "- 익명함수(Anonymous Function)\r\n",
        "- 함수 정의를 한 줄로 생략하는 방식"
      ]
    },
    {
      "cell_type": "code",
      "metadata": {
        "id": "BvKJeMBHNhI0"
      },
      "source": [
        "A =lambda x : x*2\r\n",
        "A(5) #10 값\r\n",
        "\r\n",
        "def lamb(x):\r\n",
        "  return x*2"
      ],
      "execution_count": 46,
      "outputs": []
    },
    {
      "cell_type": "code",
      "metadata": {
        "id": "0C79zrtsQcnF",
        "colab": {
          "base_uri": "https://localhost:8080/"
        },
        "outputId": "60e20df3-b8bb-4477-f681-42e47d7444e2"
      },
      "source": [
        "F = lambda n : F(n-1) + F(n-2) if n > 2 else 1\r\n",
        "R = [F(n) for n in range(1,10)]\r\n",
        "print(R) #[1, 1, 2, 3, 5, 8, 13, 21, 34]"
      ],
      "execution_count": 47,
      "outputs": [
        {
          "output_type": "stream",
          "text": [
            "[1, 1, 2, 3, 5, 8, 13, 21, 34]\n"
          ],
          "name": "stdout"
        }
      ]
    },
    {
      "cell_type": "code",
      "metadata": {
        "id": "eYPsgVaBQ71_",
        "colab": {
          "base_uri": "https://localhost:8080/"
        },
        "outputId": "c5a4a8f5-3f08-484f-e01c-4a39f51e4bb8"
      },
      "source": [
        "A = lambda x : x * 2\r\n",
        "B = lambda x : x * 3\r\n",
        "C = lambda x : x * 4\r\n",
        "D = lambda x : x * 5\r\n",
        "\r\n",
        "L = [A,B,C,D]\r\n",
        "\r\n",
        "for f in L:\r\n",
        "  print(f(2))"
      ],
      "execution_count": 48,
      "outputs": [
        {
          "output_type": "stream",
          "text": [
            "4\n",
            "6\n",
            "8\n",
            "10\n"
          ],
          "name": "stdout"
        }
      ]
    },
    {
      "cell_type": "code",
      "metadata": {
        "id": "4DGzMdEWRPLc",
        "colab": {
          "base_uri": "https://localhost:8080/"
        },
        "outputId": "48cbbe92-ff43-452e-83ab-f23fa8595a7a"
      },
      "source": [
        "F = lambda n : [f(n) for f in L]\r\n",
        "F(2)"
      ],
      "execution_count": 49,
      "outputs": [
        {
          "output_type": "execute_result",
          "data": {
            "text/plain": [
              "[4, 6, 8, 10]"
            ]
          },
          "metadata": {
            "tags": []
          },
          "execution_count": 49
        }
      ]
    },
    {
      "cell_type": "markdown",
      "metadata": {
        "id": "JyeOM6MxROcc"
      },
      "source": [
        "- <스스로>48페이지 예제 해보기"
      ]
    },
    {
      "cell_type": "code",
      "metadata": {
        "id": "FXfAmbnlijt-",
        "outputId": "46de7601-edeb-418c-d08c-c066567bc1ac",
        "colab": {
          "base_uri": "https://localhost:8080/",
          "height": 251
        }
      },
      "source": [
        "def process(string, code):\r\n",
        "  func_dict = { 'U':lambda x : x.upper(),\r\n",
        "               'L' : lambda x : x.lower(),\r\n",
        "               'C' : lambda x : x.capitalize()}\r\n",
        "        \r\n",
        "F = func_dict[code]\r\n",
        "return F(string)\r\n",
        "\r\n",
        "process('hello', 'U')"
      ],
      "execution_count": 16,
      "outputs": [
        {
          "output_type": "error",
          "ename": "NameError",
          "evalue": "ignored",
          "traceback": [
            "\u001b[0;31m---------------------------------------------------------------------------\u001b[0m",
            "\u001b[0;31mNameError\u001b[0m                                 Traceback (most recent call last)",
            "\u001b[0;32m<ipython-input-16-f38ab342dffe>\u001b[0m in \u001b[0;36m<module>\u001b[0;34m()\u001b[0m\n\u001b[1;32m      4\u001b[0m                'C' : lambda x : x.capitalize()}\n\u001b[1;32m      5\u001b[0m \u001b[0;34m\u001b[0m\u001b[0m\n\u001b[0;32m----> 6\u001b[0;31m \u001b[0mF\u001b[0m \u001b[0;34m=\u001b[0m \u001b[0mfunc_dict\u001b[0m\u001b[0;34m[\u001b[0m\u001b[0mcode\u001b[0m\u001b[0;34m]\u001b[0m\u001b[0;34m\u001b[0m\u001b[0;34m\u001b[0m\u001b[0m\n\u001b[0m\u001b[1;32m      7\u001b[0m \u001b[0;32mreturn\u001b[0m \u001b[0mF\u001b[0m\u001b[0;34m(\u001b[0m\u001b[0mstring\u001b[0m\u001b[0;34m)\u001b[0m\u001b[0;34m\u001b[0m\u001b[0;34m\u001b[0m\u001b[0m\n\u001b[1;32m      8\u001b[0m \u001b[0;34m\u001b[0m\u001b[0m\n",
            "\u001b[0;31mNameError\u001b[0m: name 'func_dict' is not defined"
          ]
        }
      ]
    },
    {
      "cell_type": "code",
      "metadata": {
        "id": "tgJOzycSjOnC",
        "outputId": "24c80a48-505e-4341-9598-47b372e99243",
        "colab": {
          "base_uri": "https://localhost:8080/",
          "height": 36
        }
      },
      "source": [
        "def process(string, code) :\r\n",
        "  return { 'U':lambda x : x.upper(),\r\n",
        "          'L' : lambda x : x.lower(),\r\n",
        "          'C' : lambda x : x.capitalize()\r\n",
        "          }[code](string)\r\n",
        "\r\n",
        "\r\n"
      ],
      "execution_count": 12,
      "outputs": [
        {
          "output_type": "execute_result",
          "data": {
            "application/vnd.google.colaboratory.intrinsic+json": {
              "type": "string"
            },
            "text/plain": [
              "'Hello'"
            ]
          },
          "metadata": {
            "tags": []
          },
          "execution_count": 12
        }
      ]
    },
    {
      "cell_type": "code",
      "metadata": {
        "id": "3OqC9XJwjlpw",
        "outputId": "d40f32a5-be72-4023-f1f3-e6ad9a75d8ee",
        "colab": {
          "base_uri": "https://localhost:8080/",
          "height": 36
        }
      },
      "source": [
        "process('hello', 'U')\r\n"
      ],
      "execution_count": 13,
      "outputs": [
        {
          "output_type": "execute_result",
          "data": {
            "application/vnd.google.colaboratory.intrinsic+json": {
              "type": "string"
            },
            "text/plain": [
              "'Hello'"
            ]
          },
          "metadata": {
            "tags": []
          },
          "execution_count": 13
        }
      ]
    },
    {
      "cell_type": "code",
      "metadata": {
        "id": "0T9CGtQ7jomy",
        "outputId": "1ba453d6-39d5-4612-8aa1-5f8f2fe90329",
        "colab": {
          "base_uri": "https://localhost:8080/",
          "height": 36
        }
      },
      "source": [
        "process('HELLO', 'L')\r\n"
      ],
      "execution_count": 14,
      "outputs": [
        {
          "output_type": "execute_result",
          "data": {
            "application/vnd.google.colaboratory.intrinsic+json": {
              "type": "string"
            },
            "text/plain": [
              "'hello'"
            ]
          },
          "metadata": {
            "tags": []
          },
          "execution_count": 14
        }
      ]
    },
    {
      "cell_type": "code",
      "metadata": {
        "id": "1q3135upjpqB",
        "outputId": "4d4daa02-ba15-4724-fcab-fbfa157bdaee",
        "colab": {
          "base_uri": "https://localhost:8080/",
          "height": 36
        }
      },
      "source": [
        "process('hello', 'C')"
      ],
      "execution_count": 15,
      "outputs": [
        {
          "output_type": "execute_result",
          "data": {
            "application/vnd.google.colaboratory.intrinsic+json": {
              "type": "string"
            },
            "text/plain": [
              "'Hello'"
            ]
          },
          "metadata": {
            "tags": []
          },
          "execution_count": 15
        }
      ]
    },
    {
      "cell_type": "markdown",
      "metadata": {
        "id": "Bz_p6rPdTD2K"
      },
      "source": [
        "**8. \\***args 와 \\****kwargs 이용한 람다**\r\n",
        "- *args 표현식  \r\n",
        ": 함수의 매개변수 * 문자는 임의의 복수의 매개변수가 오는 것으로 정의\r\n",
        "- **kwargs 표현식  \r\n",
        ": 함수의 매개변수에 ** 문자는 임의의 key=value 형태의 복수의 매개변수가 오는 것으로 정의\r\n"
      ]
    },
    {
      "cell_type": "code",
      "metadata": {
        "id": "kmOsR7JMTx-_",
        "colab": {
          "base_uri": "https://localhost:8080/",
          "height": 36
        },
        "outputId": "55b6d3f7-78b2-4c23-996a-7d352d413c7c"
      },
      "source": [
        "F = lambda * x : ''.join(x) # 문자열을 붙여주는 함수\r\n",
        "F('파이썬', '코딩', '쉽네') # '파이썬코딩쉽네'"
      ],
      "execution_count": 50,
      "outputs": [
        {
          "output_type": "execute_result",
          "data": {
            "application/vnd.google.colaboratory.intrinsic+json": {
              "type": "string"
            },
            "text/plain": [
              "'파이썬코딩쉽네'"
            ]
          },
          "metadata": {
            "tags": []
          },
          "execution_count": 50
        }
      ]
    },
    {
      "cell_type": "code",
      "metadata": {
        "id": "krOjP8OZUBT-",
        "colab": {
          "base_uri": "https://localhost:8080/"
        },
        "outputId": "57f00dcc-8ac2-4940-f771-546ab59d2b1f"
      },
      "source": [
        "F = lambda **x : [(v,k) for k, v in x.items()] #key, value를 서로 바꿔서 dictionary 생성\r\n",
        "D = F(A='파이썬', B='코딩', C='쉽네') #dict 생성\r\n",
        "print(D)\r\n",
        "\r\n",
        "D = dict(D)\r\n",
        "print(D['파이썬'])\r\n"
      ],
      "execution_count": 51,
      "outputs": [
        {
          "output_type": "stream",
          "text": [
            "[('파이썬', 'A'), ('코딩', 'B'), ('쉽네', 'C')]\n",
            "A\n"
          ],
          "name": "stdout"
        }
      ]
    },
    {
      "cell_type": "markdown",
      "metadata": {
        "id": "SrhsIPhUXGi_"
      },
      "source": [
        "\r\n",
        "\r\n",
        "---\r\n",
        "\r\n"
      ]
    },
    {
      "cell_type": "code",
      "metadata": {
        "id": "seFUZvfQWVXB"
      },
      "source": [
        "F = lambda **x : sum(x['data']) if 'type' in x and x['type'] == 'sum' else 0"
      ],
      "execution_count": 4,
      "outputs": []
    },
    {
      "cell_type": "code",
      "metadata": {
        "id": "b4dtmR0nWgYC",
        "colab": {
          "base_uri": "https://localhost:8080/"
        },
        "outputId": "0e1a289a-da87-49b4-988c-9334ddde4cff"
      },
      "source": [
        "F(type='sum', data=[1,2,3,4])"
      ],
      "execution_count": 5,
      "outputs": [
        {
          "output_type": "execute_result",
          "data": {
            "text/plain": [
              "10"
            ]
          },
          "metadata": {
            "tags": []
          },
          "execution_count": 5
        }
      ]
    },
    {
      "cell_type": "code",
      "metadata": {
        "id": "Otxl5b5bW8d9",
        "colab": {
          "base_uri": "https://localhost:8080/"
        },
        "outputId": "648bb38c-4728-4853-87bb-bf2dda0a1b32"
      },
      "source": [
        "F(data=[1,2,3,4,5])"
      ],
      "execution_count": 6,
      "outputs": [
        {
          "output_type": "execute_result",
          "data": {
            "text/plain": [
              "0"
            ]
          },
          "metadata": {
            "tags": []
          },
          "execution_count": 6
        }
      ]
    },
    {
      "cell_type": "code",
      "metadata": {
        "id": "3kYxqB_kW-SZ",
        "colab": {
          "base_uri": "https://localhost:8080/"
        },
        "outputId": "2ed19eb2-f9cc-4fe2-d0a1-f00456f8bf9c"
      },
      "source": [
        "F(type='mul', data=[1,2,3,4,5])"
      ],
      "execution_count": 7,
      "outputs": [
        {
          "output_type": "execute_result",
          "data": {
            "text/plain": [
              "0"
            ]
          },
          "metadata": {
            "tags": []
          },
          "execution_count": 7
        }
      ]
    },
    {
      "cell_type": "markdown",
      "metadata": {
        "id": "x8-FAeaaXI-V"
      },
      "source": [
        "**9. 파일 입출력**"
      ]
    },
    {
      "cell_type": "markdown",
      "metadata": {
        "id": "OLHXVRBwXV5m"
      },
      "source": [
        "- student 파일 읽기 예제"
      ]
    },
    {
      "cell_type": "code",
      "metadata": {
        "id": "5TJNq7EEX1gg",
        "colab": {
          "base_uri": "https://localhost:8080/"
        },
        "outputId": "54a88636-99ce-4396-e079-41d80bbe045c"
      },
      "source": [
        "with open('student.txt', 'r', encoding='euc-kr') as fr:\r\n",
        "  print(fr.readline())"
      ],
      "execution_count": 17,
      "outputs": [
        {
          "output_type": "stream",
          "text": [
            "태서연;54;72;60;78\n",
            "\n"
          ],
          "name": "stdout"
        }
      ]
    },
    {
      "cell_type": "markdown",
      "metadata": {
        "id": "KQEdEn4DY4sL"
      },
      "source": [
        "- 이름(첫 번째)를 제외한 **숫자 문자열**들만 추출"
      ]
    },
    {
      "cell_type": "code",
      "metadata": {
        "id": "NhsdIykmYGRl",
        "colab": {
          "base_uri": "https://localhost:8080/"
        },
        "outputId": "c4fedc04-5e04-48a0-91ab-a9471118c507"
      },
      "source": [
        "F = lambda x : x.split(';')[1:]\r\n",
        "F('태서연;54;72;60;78')"
      ],
      "execution_count": 52,
      "outputs": [
        {
          "output_type": "execute_result",
          "data": {
            "text/plain": [
              "['54', '72', '60', '78']"
            ]
          },
          "metadata": {
            "tags": []
          },
          "execution_count": 52
        }
      ]
    },
    {
      "cell_type": "code",
      "metadata": {
        "id": "8naBCARtYwj0",
        "colab": {
          "base_uri": "https://localhost:8080/"
        },
        "outputId": "096f332b-8949-4233-9ae2-2e9eab244205"
      },
      "source": [
        "F = lambda x : x.split(';')\r\n",
        "F('태서연;54;72;60;78')"
      ],
      "execution_count": 53,
      "outputs": [
        {
          "output_type": "execute_result",
          "data": {
            "text/plain": [
              "['태서연', '54', '72', '60', '78']"
            ]
          },
          "metadata": {
            "tags": []
          },
          "execution_count": 53
        }
      ]
    },
    {
      "cell_type": "markdown",
      "metadata": {
        "id": "IWsNEPtXZB4v"
      },
      "source": [
        "- 입력 문자열을 숫자로만 추출하기(list comprehension)"
      ]
    },
    {
      "cell_type": "code",
      "metadata": {
        "id": "2LZvQBNDZFV2",
        "colab": {
          "base_uri": "https://localhost:8080/"
        },
        "outputId": "f92f209a-530d-44e6-c0bb-b9b33987f856"
      },
      "source": [
        "F = lambda x : [int(i) for i in x.split(';')[1:]]\r\n",
        "F('태서연;54;72;60;78')"
      ],
      "execution_count": 54,
      "outputs": [
        {
          "output_type": "execute_result",
          "data": {
            "text/plain": [
              "[54, 72, 60, 78]"
            ]
          },
          "metadata": {
            "tags": []
          },
          "execution_count": 54
        }
      ]
    },
    {
      "cell_type": "markdown",
      "metadata": {
        "id": "xDAGircnZzzK"
      },
      "source": [
        "- 입력 문자열을 합계"
      ]
    },
    {
      "cell_type": "code",
      "metadata": {
        "id": "emVNFioGZRwr",
        "colab": {
          "base_uri": "https://localhost:8080/"
        },
        "outputId": "3b687c8e-25dd-4552-99e1-3ab3b06243bf"
      },
      "source": [
        "F = lambda x : sum([int(i) for i in x.split(';')[1:]])\r\n",
        "F('태서연;54;72;60;78')"
      ],
      "execution_count": 55,
      "outputs": [
        {
          "output_type": "execute_result",
          "data": {
            "text/plain": [
              "264"
            ]
          },
          "metadata": {
            "tags": []
          },
          "execution_count": 55
        }
      ]
    },
    {
      "cell_type": "markdown",
      "metadata": {
        "id": "lHWBaFnLZ-IY"
      },
      "source": [
        "- 이름, 과목별 점수 합계 리턴"
      ]
    },
    {
      "cell_type": "code",
      "metadata": {
        "id": "U-dfGaM8aAaq",
        "colab": {
          "base_uri": "https://localhost:8080/"
        },
        "outputId": "1cfdbe7c-10e2-48a2-cd17-201fc0ba98c4"
      },
      "source": [
        "F = lambda x : (x.split(';')[0], sum([int(i) for i in x.split(';')[1:]]))\r\n",
        "name, total = F('태서연;54;72;60;78')\r\n",
        "print(name, total)"
      ],
      "execution_count": 56,
      "outputs": [
        {
          "output_type": "stream",
          "text": [
            "태서연 264\n"
          ],
          "name": "stdout"
        }
      ]
    },
    {
      "cell_type": "markdown",
      "metadata": {
        "id": "pXM_edmyaS7z"
      },
      "source": [
        "- 입력 문자열을 미리 split 하여서 리스트로 넘긴다고 가정"
      ]
    },
    {
      "cell_type": "code",
      "metadata": {
        "id": "TzXf_5Kya4bW",
        "colab": {
          "base_uri": "https://localhost:8080/"
        },
        "outputId": "a92b812e-ee6b-446c-9ade-37914a19470f"
      },
      "source": [
        "F = lambda L : [int(x) for x in L[1:]]\r\n",
        "F('태서연;54;72;60;78'.split(';'))"
      ],
      "execution_count": 57,
      "outputs": [
        {
          "output_type": "execute_result",
          "data": {
            "text/plain": [
              "[54, 72, 60, 78]"
            ]
          },
          "metadata": {
            "tags": []
          },
          "execution_count": 57
        }
      ]
    },
    {
      "cell_type": "markdown",
      "metadata": {
        "id": "y0PsavSPaYMg"
      },
      "source": [
        "- 이름, 점수 합계를 리턴하는 방법"
      ]
    },
    {
      "cell_type": "code",
      "metadata": {
        "id": "5JrhJUubbHx7",
        "colab": {
          "base_uri": "https://localhost:8080/"
        },
        "outputId": "890c052a-25f9-4ab8-8866-32b4bad2a6fe"
      },
      "source": [
        "F = lambda L : (L[0], sum([int(x) for x in L[1:]]))\r\n",
        "\r\n",
        "name, total = F('태서연;54;72;60;78'.split(';'))\r\n",
        "\r\n",
        "print(name, total)"
      ],
      "execution_count": 58,
      "outputs": [
        {
          "output_type": "stream",
          "text": [
            "태서연 264\n"
          ],
          "name": "stdout"
        }
      ]
    },
    {
      "cell_type": "markdown",
      "metadata": {
        "id": "uPZ8H3oHadjU"
      },
      "source": [
        "- 타입별(이름, 합계), (이름, 평균)을 나타내는 함수"
      ]
    },
    {
      "cell_type": "code",
      "metadata": {
        "id": "kIvesDZ6bXZR"
      },
      "source": [
        "F = lambda L, T : (L[0], sum([int(x) for x in L[1:]])) if T==\"sum\" else\\\r\n",
        "                  (L[0], sum([int(x) for x in L[1:]])/len(L[1:])) if T==\"avg\" else\\\r\n",
        "                  (L[0], None)\r\n",
        "name, value = F('태서연;54;72;60;78'.split(';'), \"sum\")\r\n",
        "print(name, value)"
      ],
      "execution_count": null,
      "outputs": []
    },
    {
      "cell_type": "code",
      "metadata": {
        "id": "UaUISnNhcCwg"
      },
      "source": [
        "name, value = F('태서연;54;72;60;78'.split(';'), \"avg\")\r\n",
        "print(name, value)"
      ],
      "execution_count": null,
      "outputs": []
    },
    {
      "cell_type": "code",
      "metadata": {
        "id": "AAtwXd57cIzV"
      },
      "source": [
        "name, value = F('태서연;54;72;60;78'.split(';'), \"mul\")\r\n",
        "print(name, value)"
      ],
      "execution_count": null,
      "outputs": []
    },
    {
      "cell_type": "markdown",
      "metadata": {
        "id": "bTALua5hcQ7G"
      },
      "source": [
        "- 파일을 읽어서 이름;합계;평균을 내는 student_result 파일로 저장"
      ]
    },
    {
      "cell_type": "code",
      "metadata": {
        "id": "f0snxEL0cWAV"
      },
      "source": [
        "with open('student.txt', 'r', encoding='euc-kr') as fr, open('student_result.txt', 'w') as fw:\r\n",
        "  for line in fr:\r\n",
        "    name, total_sum = F(line.split(';'), 'sum')\r\n",
        "    name, total_avg = F(line.split(';'), 'avg')\r\n",
        "\r\n",
        "    #문자열 앞에 f를 붙이면 문자열 내부에 {}를 이용하여 변수를 바인딩 할 수 있음.  f-string\r\n",
        "    result = f\"{name};{total_sum};{total_avg}\\n\"\r\n",
        "    fw.write(result)"
      ],
      "execution_count": null,
      "outputs": []
    },
    {
      "cell_type": "markdown",
      "metadata": {
        "id": "Krp1HvKgdKj0"
      },
      "source": [
        "- student_result 파일에 저장된 내용 확인"
      ]
    },
    {
      "cell_type": "code",
      "metadata": {
        "id": "K1jopXfPc8uu"
      },
      "source": [
        "with open('student_result.txt') as fr:\r\n",
        "  print(fr.readline())\r\n",
        "  print(fr.readline())\r\n",
        "  print(fr.readline())"
      ],
      "execution_count": null,
      "outputs": []
    },
    {
      "cell_type": "markdown",
      "metadata": {
        "id": "qhaeKDXidcgA"
      },
      "source": [
        "**10. 데이터를 json파일/텍스트로 변환**"
      ]
    },
    {
      "cell_type": "code",
      "metadata": {
        "id": "qiN_zYzrdscw"
      },
      "source": [
        "import json\r\n",
        "person_dict = {}\r\n",
        "\r\n",
        "with open('student.txt', 'r', encoding='euc-kr') as fr:\r\n",
        "  for line in fr:\r\n",
        "    data = line.strip().split(';') #불필요 공백 제거 후 문자로 문자열 분리\r\n",
        "    name = data[0]\r\n",
        "\r\n",
        "    # kor, eng, mat, sci = int(data[1]), int(data[2]), int(data[3]), int(data[4])\r\n",
        "    kor, eng, mat, sci = (int(x) for x in data[1:])\r\n",
        "    person_dict[name] = {'국어':kor, '영어':eng, '수학':mat, '과학':sci}\r\n",
        "\r\n",
        "with open('student_json', 'w') as fw:\r\n",
        "  json.dump(person_dict, fw, ensure_ascii=False, indent=4) #딕셔너리를 JSON으로 변환하여 파일로 저장\r\n",
        "\r\n",
        "json_data = json.dumps(person_dict)\r\n",
        "print(json_data)\r\n",
        "\r\n"
      ],
      "execution_count": null,
      "outputs": []
    },
    {
      "cell_type": "markdown",
      "metadata": {
        "id": "HcaBAZfofw04"
      },
      "source": [
        "**11. 파이썬 오브젝트를 json 텍스트로 변환**"
      ]
    },
    {
      "cell_type": "code",
      "metadata": {
        "id": "m32C18N9fbbX"
      },
      "source": [
        "import json\r\n",
        "person_dict = {}\r\n",
        "\r\n",
        "with open('student.txt', 'r', encoding='euc-kr') as fr:\r\n",
        "  for line in fr:\r\n",
        "    data = line.strip().split(';') #불필요 공백 제거 후 문자로 문자열 분리\r\n",
        "    name = data[0] #이름\r\n",
        "\r\n",
        "    # kor, eng, mat, sci = int(data[1]), int(data[2]), int(data[3]), int(data[4])\r\n",
        "    kor, eng, mat, sci = (int(x) for x in data[1:])\r\n",
        "    person_dict[name] = {'국어':kor, '영어':eng, '수학':mat, '과학':sci}\r\n",
        "\r\n",
        "json_data = json.dumps(person_dict, ensure_ascii=False, indent=4) #한글 보존, indent 추가\r\n",
        "print(json_data)"
      ],
      "execution_count": null,
      "outputs": []
    },
    {
      "cell_type": "markdown",
      "metadata": {
        "id": "O1mnAj-rf2vC"
      },
      "source": [
        "**12. json 텍스트를 파이썬 오브젝트로 변환**\r\n",
        " - ''.join( list ) : 리스트에서 문자열으로"
      ]
    },
    {
      "cell_type": "code",
      "metadata": {
        "id": "_elQ1GRYf8ct"
      },
      "source": [
        "with open('student_json', 'r', encoding=\"UTF-8-sig\") as fr:\r\n",
        "  json_data = json.load(fr) #파일에 저장된 JSON 텍스트를 파이썬 오브젝트로 변환\r\n",
        "print(json_data['태서연'])\r\n",
        "\r\n",
        "with open('student_json', 'r', encoding=\"UTF-8-sig\") as fr:\r\n",
        "  json_text = ''.join(fr.readlines())\r\n",
        "\r\n",
        "json_data = json.loads(json_text) #JSON 형태의 텍스트를 파이썬 오브젝트로 변환\r\n",
        "print(json_data[\"태서연\"])"
      ],
      "execution_count": null,
      "outputs": []
    },
    {
      "cell_type": "markdown",
      "metadata": {
        "id": "q1GZDlkzlo7v"
      },
      "source": [
        "**13. pickle 데이터 직렬화 저장 로딩**"
      ]
    },
    {
      "cell_type": "markdown",
      "metadata": {
        "id": "Tk-k51pim6LC"
      },
      "source": [
        "텍스트 상태의 데이터가 아닌 파이썬 객체 자체를 파일로 저장하는 것 입니다.\r\n",
        "\r\n",
        "\r\n",
        "\r\n",
        "\r\n",
        "\r\n",
        "**그러면 무엇이 좋나요?**\r\n",
        "\r\n",
        "\r\n",
        "\r\n",
        "만약 우리가 10GB 짜리 raw text 파일을 파싱하여 필요한 부분을 빼내서 사용한다고 해봅시다\r\n",
        "\r\n",
        "\r\n",
        "\r\n",
        "raw text 에 있는 내용을 프로그램을 돌릴 때 마다 파싱하여 필요한 부분을 뺀다면 비효율 적이겠죠?\r\n",
        "\r\n",
        "\r\n",
        "\r\n",
        "그래서 미리 필요한 부분을 딕셔너리 던, 리스트 던, 튜플 이던 저장을 해놓는 것 입니다..\r\n",
        "\r\n",
        "\r\n",
        "\r\n",
        "근데 문자열이 아닌 객체를 파일에 쓸 수 없기에,\r\n",
        "\r\n",
        "\r\n",
        "\r\n",
        "pickle 모듈을 활용해 그 객체 자체를 바이너리로 저장하는 것 입니다 !! ㅎㅎ\r\n",
        "\r\n",
        "\r\n",
        "\r\n",
        "\r\n",
        "\r\n",
        "그럼 pickle 모듈로 저장된 파일을 그냥 불러오기만 하면 되기에 속도도 훨씬 빠르겠지요\r\n",
        "\r\n",
        "\r\n",
        "\r\n",
        "출처: https://korbillgates.tistory.com/173 [생물정보학자의 블로그]"
      ]
    },
    {
      "cell_type": "code",
      "metadata": {
        "id": "bM4b6QiAi7wC"
      },
      "source": [
        "import json\r\n",
        "import pickle\r\n",
        "\r\n",
        "with open ('student_json', 'r', encoding='UTF-8-sig') as fr:\r\n",
        "  json_data = json.load(fr)\r\n",
        "\r\n",
        "with open ('student_pickle', 'wb') as fw:\r\n",
        "  pickle.dump(json_data, fw)\r\n",
        "\r\n",
        "with open ('student_pickle', 'rb') as fr:\r\n",
        "  pickle_data = pickle.load(fr)\r\n",
        "\r\n",
        "print(pickle_data['태서연'])"
      ],
      "execution_count": null,
      "outputs": []
    },
    {
      "cell_type": "markdown",
      "metadata": {
        "id": "HeQfHuCknTGG"
      },
      "source": [
        "**<스스로>14. 서울시 인구 통계 분석(실습)**\r\n",
        "- seoul_people_report (CSV) 파일을 기반으로 구명을 key 값을 가지는 딕셔너리로 변경\r\n",
        "\r\n",
        "- 구별 '외국인 비율', '6 세이상고령자 비율' 을 계산 후 각각 key( 외국인비율 , 고령자비율에 저장"
      ]
    }
  ]
}